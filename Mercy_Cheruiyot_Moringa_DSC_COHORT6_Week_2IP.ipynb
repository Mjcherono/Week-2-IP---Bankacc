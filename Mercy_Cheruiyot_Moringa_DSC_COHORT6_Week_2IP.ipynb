{
  "nbformat": 4,
  "nbformat_minor": 0,
  "metadata": {
    "colab": {
      "name": "Mercy-Cheruiyot-Moringa-DSC-COHORT6-Week 2IP.ipynb",
      "provenance": [],
      "authorship_tag": "ABX9TyPSs32ECErCx2aQibpOzu78",
      "include_colab_link": true
    },
    "kernelspec": {
      "name": "python3",
      "display_name": "Python 3"
    }
  },
  "cells": [
    {
      "cell_type": "markdown",
      "metadata": {
        "id": "view-in-github",
        "colab_type": "text"
      },
      "source": [
        "<a href=\"https://colab.research.google.com/github/Mjcherono/Week-2-IP---Bankacc/blob/main/Mercy_Cheruiyot_Moringa_DSC_COHORT6_Week_2IP.ipynb\" target=\"_parent\"><img src=\"https://colab.research.google.com/assets/colab-badge.svg\" alt=\"Open In Colab\"/></a>"
      ]
    },
    {
      "cell_type": "markdown",
      "metadata": {
        "id": "OlwqFjDhfTbh"
      },
      "source": [
        "##1. Importing Dataset"
      ]
    },
    {
      "cell_type": "code",
      "metadata": {
        "id": "kHwGGR0CeHcp"
      },
      "source": [
        "import pandas as pd\n",
        "import numpy as np\n",
        "import matplotlib.pyplot as plt\n",
        "import seaborn as sns"
      ],
      "execution_count": 517,
      "outputs": []
    },
    {
      "cell_type": "code",
      "metadata": {
        "id": "6WkeOatZeoBZ"
      },
      "source": [
        "dataset = pd.read_csv('/content/Financial Dataset - 1.csv')"
      ],
      "execution_count": 518,
      "outputs": []
    },
    {
      "cell_type": "markdown",
      "metadata": {
        "id": "ViV79QgmfbFE"
      },
      "source": [
        "##2. Checking the data"
      ]
    },
    {
      "cell_type": "code",
      "metadata": {
        "id": "0uLYN2QBeyc4",
        "outputId": "0c717810-c543-45b6-ef30-23a2d3fccdca",
        "colab": {
          "base_uri": "https://localhost:8080/",
          "height": 34
        }
      },
      "source": [
        "#checking number of records\n",
        "dataset.shape"
      ],
      "execution_count": 519,
      "outputs": [
        {
          "output_type": "execute_result",
          "data": {
            "text/plain": [
              "(23524, 13)"
            ]
          },
          "metadata": {
            "tags": []
          },
          "execution_count": 519
        }
      ]
    },
    {
      "cell_type": "code",
      "metadata": {
        "id": "h0aBh4yne732",
        "outputId": "d97fe656-b105-4587-8857-33401343cbe1",
        "colab": {
          "base_uri": "https://localhost:8080/",
          "height": 366
        }
      },
      "source": [
        "#head\n",
        "dataset.head()"
      ],
      "execution_count": 520,
      "outputs": [
        {
          "output_type": "execute_result",
          "data": {
            "text/html": [
              "<div>\n",
              "<style scoped>\n",
              "    .dataframe tbody tr th:only-of-type {\n",
              "        vertical-align: middle;\n",
              "    }\n",
              "\n",
              "    .dataframe tbody tr th {\n",
              "        vertical-align: top;\n",
              "    }\n",
              "\n",
              "    .dataframe thead th {\n",
              "        text-align: right;\n",
              "    }\n",
              "</style>\n",
              "<table border=\"1\" class=\"dataframe\">\n",
              "  <thead>\n",
              "    <tr style=\"text-align: right;\">\n",
              "      <th></th>\n",
              "      <th>country</th>\n",
              "      <th>year</th>\n",
              "      <th>uniqueid</th>\n",
              "      <th>Has a Bank account</th>\n",
              "      <th>Type of Location</th>\n",
              "      <th>Cell Phone Access</th>\n",
              "      <th>household_size</th>\n",
              "      <th>Respondent Age</th>\n",
              "      <th>gender_of_respondent</th>\n",
              "      <th>The relathip with head</th>\n",
              "      <th>marital_status</th>\n",
              "      <th>Level of Educuation</th>\n",
              "      <th>Type of Job</th>\n",
              "    </tr>\n",
              "  </thead>\n",
              "  <tbody>\n",
              "    <tr>\n",
              "      <th>0</th>\n",
              "      <td>Kenya</td>\n",
              "      <td>2018</td>\n",
              "      <td>uniqueid_1</td>\n",
              "      <td>Yes</td>\n",
              "      <td>Rural</td>\n",
              "      <td>Yes</td>\n",
              "      <td>3.0</td>\n",
              "      <td>24.0</td>\n",
              "      <td>Female</td>\n",
              "      <td>Spouse</td>\n",
              "      <td>Married/Living together</td>\n",
              "      <td>Secondary education</td>\n",
              "      <td>Self employed</td>\n",
              "    </tr>\n",
              "    <tr>\n",
              "      <th>1</th>\n",
              "      <td>Kenya</td>\n",
              "      <td>2018</td>\n",
              "      <td>uniqueid_2</td>\n",
              "      <td>No</td>\n",
              "      <td>Rural</td>\n",
              "      <td>No</td>\n",
              "      <td>5.0</td>\n",
              "      <td>70.0</td>\n",
              "      <td>Female</td>\n",
              "      <td>Head of Household</td>\n",
              "      <td>Widowed</td>\n",
              "      <td>No formal education</td>\n",
              "      <td>Government Dependent</td>\n",
              "    </tr>\n",
              "    <tr>\n",
              "      <th>2</th>\n",
              "      <td>Kenya</td>\n",
              "      <td>2018</td>\n",
              "      <td>uniqueid_3</td>\n",
              "      <td>Yes</td>\n",
              "      <td>Urban</td>\n",
              "      <td>Yes</td>\n",
              "      <td>5.0</td>\n",
              "      <td>26.0</td>\n",
              "      <td>Male</td>\n",
              "      <td>Other relative</td>\n",
              "      <td>Single/Never Married</td>\n",
              "      <td>Vocational/Specialised training</td>\n",
              "      <td>Self employed</td>\n",
              "    </tr>\n",
              "    <tr>\n",
              "      <th>3</th>\n",
              "      <td>Kenya</td>\n",
              "      <td>2018</td>\n",
              "      <td>uniqueid_4</td>\n",
              "      <td>No</td>\n",
              "      <td>Rural</td>\n",
              "      <td>Yes</td>\n",
              "      <td>5.0</td>\n",
              "      <td>34.0</td>\n",
              "      <td>Female</td>\n",
              "      <td>Head of Household</td>\n",
              "      <td>Married/Living together</td>\n",
              "      <td>Primary education</td>\n",
              "      <td>Formally employed Private</td>\n",
              "    </tr>\n",
              "    <tr>\n",
              "      <th>4</th>\n",
              "      <td>Kenya</td>\n",
              "      <td>2018</td>\n",
              "      <td>uniqueid_5</td>\n",
              "      <td>No</td>\n",
              "      <td>Urban</td>\n",
              "      <td>No</td>\n",
              "      <td>8.0</td>\n",
              "      <td>26.0</td>\n",
              "      <td>Male</td>\n",
              "      <td>Child</td>\n",
              "      <td>Single/Never Married</td>\n",
              "      <td>Primary education</td>\n",
              "      <td>Informally employed</td>\n",
              "    </tr>\n",
              "  </tbody>\n",
              "</table>\n",
              "</div>"
            ],
            "text/plain": [
              "  country  year  ...              Level of Educuation                Type of Job\n",
              "0   Kenya  2018  ...              Secondary education              Self employed\n",
              "1   Kenya  2018  ...              No formal education       Government Dependent\n",
              "2   Kenya  2018  ...  Vocational/Specialised training              Self employed\n",
              "3   Kenya  2018  ...                Primary education  Formally employed Private\n",
              "4   Kenya  2018  ...                Primary education        Informally employed\n",
              "\n",
              "[5 rows x 13 columns]"
            ]
          },
          "metadata": {
            "tags": []
          },
          "execution_count": 520
        }
      ]
    },
    {
      "cell_type": "code",
      "metadata": {
        "id": "ElRWsjYVe_dS",
        "outputId": "cf7b9de2-086e-4cf2-9f09-492f64d60b54",
        "colab": {
          "base_uri": "https://localhost:8080/",
          "height": 350
        }
      },
      "source": [
        "#tail\n",
        "dataset.tail()"
      ],
      "execution_count": 521,
      "outputs": [
        {
          "output_type": "execute_result",
          "data": {
            "text/html": [
              "<div>\n",
              "<style scoped>\n",
              "    .dataframe tbody tr th:only-of-type {\n",
              "        vertical-align: middle;\n",
              "    }\n",
              "\n",
              "    .dataframe tbody tr th {\n",
              "        vertical-align: top;\n",
              "    }\n",
              "\n",
              "    .dataframe thead th {\n",
              "        text-align: right;\n",
              "    }\n",
              "</style>\n",
              "<table border=\"1\" class=\"dataframe\">\n",
              "  <thead>\n",
              "    <tr style=\"text-align: right;\">\n",
              "      <th></th>\n",
              "      <th>country</th>\n",
              "      <th>year</th>\n",
              "      <th>uniqueid</th>\n",
              "      <th>Has a Bank account</th>\n",
              "      <th>Type of Location</th>\n",
              "      <th>Cell Phone Access</th>\n",
              "      <th>household_size</th>\n",
              "      <th>Respondent Age</th>\n",
              "      <th>gender_of_respondent</th>\n",
              "      <th>The relathip with head</th>\n",
              "      <th>marital_status</th>\n",
              "      <th>Level of Educuation</th>\n",
              "      <th>Type of Job</th>\n",
              "    </tr>\n",
              "  </thead>\n",
              "  <tbody>\n",
              "    <tr>\n",
              "      <th>23519</th>\n",
              "      <td>Uganda</td>\n",
              "      <td>2018</td>\n",
              "      <td>uniqueid_2113</td>\n",
              "      <td>No</td>\n",
              "      <td>Rural</td>\n",
              "      <td>Yes</td>\n",
              "      <td>4.0</td>\n",
              "      <td>48.0</td>\n",
              "      <td>Female</td>\n",
              "      <td>Head of Household</td>\n",
              "      <td>Divorced/Seperated</td>\n",
              "      <td>No formal education</td>\n",
              "      <td>Other Income</td>\n",
              "    </tr>\n",
              "    <tr>\n",
              "      <th>23520</th>\n",
              "      <td>Uganda</td>\n",
              "      <td>2018</td>\n",
              "      <td>uniqueid_2114</td>\n",
              "      <td>No</td>\n",
              "      <td>Rural</td>\n",
              "      <td>Yes</td>\n",
              "      <td>2.0</td>\n",
              "      <td>27.0</td>\n",
              "      <td>Female</td>\n",
              "      <td>Head of Household</td>\n",
              "      <td>Single/Never Married</td>\n",
              "      <td>Secondary education</td>\n",
              "      <td>Other Income</td>\n",
              "    </tr>\n",
              "    <tr>\n",
              "      <th>23521</th>\n",
              "      <td>Uganda</td>\n",
              "      <td>2018</td>\n",
              "      <td>uniqueid_2115</td>\n",
              "      <td>No</td>\n",
              "      <td>Rural</td>\n",
              "      <td>Yes</td>\n",
              "      <td>5.0</td>\n",
              "      <td>27.0</td>\n",
              "      <td>Female</td>\n",
              "      <td>Parent</td>\n",
              "      <td>Widowed</td>\n",
              "      <td>Primary education</td>\n",
              "      <td>Other Income</td>\n",
              "    </tr>\n",
              "    <tr>\n",
              "      <th>23522</th>\n",
              "      <td>Uganda</td>\n",
              "      <td>2018</td>\n",
              "      <td>uniqueid_2116</td>\n",
              "      <td>No</td>\n",
              "      <td>Urban</td>\n",
              "      <td>Yes</td>\n",
              "      <td>7.0</td>\n",
              "      <td>30.0</td>\n",
              "      <td>Female</td>\n",
              "      <td>Parent</td>\n",
              "      <td>Divorced/Seperated</td>\n",
              "      <td>Secondary education</td>\n",
              "      <td>Self employed</td>\n",
              "    </tr>\n",
              "    <tr>\n",
              "      <th>23523</th>\n",
              "      <td>Uganda</td>\n",
              "      <td>2018</td>\n",
              "      <td>uniqueid_2117</td>\n",
              "      <td>No</td>\n",
              "      <td>Rural</td>\n",
              "      <td>Yes</td>\n",
              "      <td>10.0</td>\n",
              "      <td>20.0</td>\n",
              "      <td>Male</td>\n",
              "      <td>Child</td>\n",
              "      <td>Single/Never Married</td>\n",
              "      <td>Secondary education</td>\n",
              "      <td>No Income</td>\n",
              "    </tr>\n",
              "  </tbody>\n",
              "</table>\n",
              "</div>"
            ],
            "text/plain": [
              "      country  year  ...  Level of Educuation    Type of Job\n",
              "23519  Uganda  2018  ...  No formal education   Other Income\n",
              "23520  Uganda  2018  ...  Secondary education   Other Income\n",
              "23521  Uganda  2018  ...    Primary education   Other Income\n",
              "23522  Uganda  2018  ...  Secondary education  Self employed\n",
              "23523  Uganda  2018  ...  Secondary education      No Income\n",
              "\n",
              "[5 rows x 13 columns]"
            ]
          },
          "metadata": {
            "tags": []
          },
          "execution_count": 521
        }
      ]
    },
    {
      "cell_type": "code",
      "metadata": {
        "id": "j_-2y7CQm0j_",
        "outputId": "61fb6b04-b82e-4088-b11f-f49636fd8cd1",
        "colab": {
          "base_uri": "https://localhost:8080/",
          "height": 34
        }
      },
      "source": [
        "dataset.year.unique()"
      ],
      "execution_count": 522,
      "outputs": [
        {
          "output_type": "execute_result",
          "data": {
            "text/plain": [
              "array([2018, 2029, 2056, 2016, 2039, 2017])"
            ]
          },
          "metadata": {
            "tags": []
          },
          "execution_count": 522
        }
      ]
    },
    {
      "cell_type": "code",
      "metadata": {
        "id": "JhGUBGB8fNtA",
        "outputId": "6d263012-dcc7-4743-8b11-1e4889120f43",
        "colab": {
          "base_uri": "https://localhost:8080/",
          "height": 252
        }
      },
      "source": [
        "#checking the data types\n",
        "dataset.dtypes"
      ],
      "execution_count": 523,
      "outputs": [
        {
          "output_type": "execute_result",
          "data": {
            "text/plain": [
              "country                    object\n",
              "year                        int64\n",
              "uniqueid                   object\n",
              "Has a Bank account         object\n",
              "Type of Location           object\n",
              "Cell Phone Access          object\n",
              "household_size            float64\n",
              "Respondent Age            float64\n",
              "gender_of_respondent       object\n",
              "The relathip with head     object\n",
              "marital_status             object\n",
              "Level of Educuation        object\n",
              "Type of Job                object\n",
              "dtype: object"
            ]
          },
          "metadata": {
            "tags": []
          },
          "execution_count": 523
        }
      ]
    },
    {
      "cell_type": "markdown",
      "metadata": {
        "id": "lu1-F24xlHky"
      },
      "source": [
        "##Tyding the dataset\n"
      ]
    },
    {
      "cell_type": "code",
      "metadata": {
        "id": "SP0gMeQShM8B",
        "outputId": "7c0809f2-10ba-4f59-b53b-c27ab4375504",
        "colab": {
          "base_uri": "https://localhost:8080/",
          "height": 252
        }
      },
      "source": [
        "#checking for null values\n",
        "dataset.isnull().sum()\n",
        "\n",
        "dataset = dataset.dropna()\n",
        "\n",
        "dataset.isnull().sum()\n"
      ],
      "execution_count": 524,
      "outputs": [
        {
          "output_type": "execute_result",
          "data": {
            "text/plain": [
              "country                   0\n",
              "year                      0\n",
              "uniqueid                  0\n",
              "Has a Bank account        0\n",
              "Type of Location          0\n",
              "Cell Phone Access         0\n",
              "household_size            0\n",
              "Respondent Age            0\n",
              "gender_of_respondent      0\n",
              "The relathip with head    0\n",
              "marital_status            0\n",
              "Level of Educuation       0\n",
              "Type of Job               0\n",
              "dtype: int64"
            ]
          },
          "metadata": {
            "tags": []
          },
          "execution_count": 524
        }
      ]
    },
    {
      "cell_type": "code",
      "metadata": {
        "id": "whiEMQ9lnmzS",
        "outputId": "b27ecd42-451e-4225-c67f-a6181b12dfe3",
        "colab": {
          "base_uri": "https://localhost:8080/",
          "height": 34
        }
      },
      "source": [
        "#checking for duplicate values\n",
        "dataset.duplicated().sum()"
      ],
      "execution_count": 525,
      "outputs": [
        {
          "output_type": "execute_result",
          "data": {
            "text/plain": [
              "0"
            ]
          },
          "metadata": {
            "tags": []
          },
          "execution_count": 525
        }
      ]
    },
    {
      "cell_type": "code",
      "metadata": {
        "id": "kb0nyRYPn8Ou",
        "outputId": "3b01aa69-8da3-417a-a301-ce8ee1630918",
        "colab": {
          "base_uri": "https://localhost:8080/",
          "height": 350
        }
      },
      "source": [
        "#checking for outliers\n",
        "sns.boxplot(dataset['household_size'])"
      ],
      "execution_count": 526,
      "outputs": [
        {
          "output_type": "stream",
          "text": [
            "/usr/local/lib/python3.6/dist-packages/seaborn/_decorators.py:43: FutureWarning: Pass the following variable as a keyword arg: x. From version 0.12, the only valid positional argument will be `data`, and passing other arguments without an explicit keyword will result in an error or misinterpretation.\n",
            "  FutureWarning\n"
          ],
          "name": "stderr"
        },
        {
          "output_type": "execute_result",
          "data": {
            "text/plain": [
              "<matplotlib.axes._subplots.AxesSubplot at 0x7f5bad110160>"
            ]
          },
          "metadata": {
            "tags": []
          },
          "execution_count": 526
        },
        {
          "output_type": "display_data",
          "data": {
            "image/png": "[encoded data removed]",
            "text/plain": [
              "<Figure size 432x288 with 1 Axes>"
            ]
          },
          "metadata": {
            "tags": [],
            "needs_background": "light"
          }
        }
      ]
    },
    {
      "cell_type": "code",
      "metadata": {
        "id": "b1GUxJYXo2bR",
        "outputId": "1c2c3866-7170-4e72-d56a-904bf3f96eec",
        "colab": {
          "base_uri": "https://localhost:8080/",
          "height": 350
        }
      },
      "source": [
        "sns.boxplot(dataset['Respondent Age'])"
      ],
      "execution_count": 527,
      "outputs": [
        {
          "output_type": "stream",
          "text": [
            "/usr/local/lib/python3.6/dist-packages/seaborn/_decorators.py:43: FutureWarning: Pass the following variable as a keyword arg: x. From version 0.12, the only valid positional argument will be `data`, and passing other arguments without an explicit keyword will result in an error or misinterpretation.\n",
            "  FutureWarning\n"
          ],
          "name": "stderr"
        },
        {
          "output_type": "execute_result",
          "data": {
            "text/plain": [
              "<matplotlib.axes._subplots.AxesSubplot at 0x7f5bad165d30>"
            ]
          },
          "metadata": {
            "tags": []
          },
          "execution_count": 527
        },
        {
          "output_type": "display_data",
          "data": {
            "image/png": "[encoded data removed]",
            "text/plain": [
              "<Figure size 432x288 with 1 Axes>"
            ]
          },
          "metadata": {
            "tags": [],
            "needs_background": "light"
          }
        }
      ]
    },
    {
      "cell_type": "code",
      "metadata": {
        "id": "vv8vLl5MpDDj",
        "outputId": "dc1b6710-2efb-46dd-c3c3-b093793d4d8d",
        "colab": {
          "base_uri": "https://localhost:8080/",
          "height": 350
        }
      },
      "source": [
        "sns.boxplot(dataset['year'])"
      ],
      "execution_count": 528,
      "outputs": [
        {
          "output_type": "stream",
          "text": [
            "/usr/local/lib/python3.6/dist-packages/seaborn/_decorators.py:43: FutureWarning: Pass the following variable as a keyword arg: x. From version 0.12, the only valid positional argument will be `data`, and passing other arguments without an explicit keyword will result in an error or misinterpretation.\n",
            "  FutureWarning\n"
          ],
          "name": "stderr"
        },
        {
          "output_type": "execute_result",
          "data": {
            "text/plain": [
              "<matplotlib.axes._subplots.AxesSubplot at 0x7f5bad0279e8>"
            ]
          },
          "metadata": {
            "tags": []
          },
          "execution_count": 528
        },
        {
          "output_type": "display_data",
          "data": {
            "image/png": "[encoded data removed]",
            "text/plain": [
              "<Figure size 432x288 with 1 Axes>"
            ]
          },
          "metadata": {
            "tags": [],
            "needs_background": "light"
          }
        }
      ]
    },
    {
      "cell_type": "code",
      "metadata": {
        "id": "uRs7pZN-pMvW"
      },
      "source": [
        "#Doing away with outliers\n",
        "#Using IQR Score\n",
        "\n",
        "q1, q3 = np.percentile(dataset.year, [25, 75]) \n",
        "iqr = q3 - q1\n",
        "\n",
        "lower_bound = q1 - (iqr)\n",
        "upper_bound = q3 + (1.5 * iqr)\n",
        "\n",
        "dataset=dataset[~(dataset.year>upper_bound)]\n",
        "\n"
      ],
      "execution_count": 529,
      "outputs": []
    },
    {
      "cell_type": "code",
      "metadata": {
        "id": "9Sgz47QHsLjv",
        "outputId": "e631b58b-91ae-4729-ed05-ba082db7d009",
        "colab": {
          "base_uri": "https://localhost:8080/",
          "height": 350
        }
      },
      "source": [
        "sns.boxplot(dataset['year'])"
      ],
      "execution_count": 530,
      "outputs": [
        {
          "output_type": "stream",
          "text": [
            "/usr/local/lib/python3.6/dist-packages/seaborn/_decorators.py:43: FutureWarning: Pass the following variable as a keyword arg: x. From version 0.12, the only valid positional argument will be `data`, and passing other arguments without an explicit keyword will result in an error or misinterpretation.\n",
            "  FutureWarning\n"
          ],
          "name": "stderr"
        },
        {
          "output_type": "execute_result",
          "data": {
            "text/plain": [
              "<matplotlib.axes._subplots.AxesSubplot at 0x7f5bacff2a20>"
            ]
          },
          "metadata": {
            "tags": []
          },
          "execution_count": 530
        },
        {
          "output_type": "display_data",
          "data": {
            "image/png": "[encoded data removed]",
            "text/plain": [
              "<Figure size 432x288 with 1 Axes>"
            ]
          },
          "metadata": {
            "tags": [],
            "needs_background": "light"
          }
        }
      ]
    },
    {
      "cell_type": "code",
      "metadata": {
        "id": "NY9QDRpAtSBu"
      },
      "source": [
        "#outliers in column house hold size\n",
        "q1, q3 = np.percentile(dataset['household_size'], [25, 75]) \n",
        "iqr = q3 - q1\n",
        "\n",
        "lower_bound = q1 - (iqr)\n",
        "upper_bound = q3 + (1.5 * iqr)\n",
        "\n",
        "dataset=dataset[~(dataset['household_size']>upper_bound)]\n"
      ],
      "execution_count": 531,
      "outputs": []
    },
    {
      "cell_type": "code",
      "metadata": {
        "id": "CM0u-yTZwewF",
        "outputId": "7c026bb1-4664-4b98-e017-2bde15d4a268",
        "colab": {
          "base_uri": "https://localhost:8080/",
          "height": 350
        }
      },
      "source": [
        "sns.boxplot(dataset['household_size'])"
      ],
      "execution_count": 532,
      "outputs": [
        {
          "output_type": "stream",
          "text": [
            "/usr/local/lib/python3.6/dist-packages/seaborn/_decorators.py:43: FutureWarning: Pass the following variable as a keyword arg: x. From version 0.12, the only valid positional argument will be `data`, and passing other arguments without an explicit keyword will result in an error or misinterpretation.\n",
            "  FutureWarning\n"
          ],
          "name": "stderr"
        },
        {
          "output_type": "execute_result",
          "data": {
            "text/plain": [
              "<matplotlib.axes._subplots.AxesSubplot at 0x7f5bacfc4f98>"
            ]
          },
          "metadata": {
            "tags": []
          },
          "execution_count": 532
        },
        {
          "output_type": "display_data",
          "data": {
            "image/png": "[encoded data removed]",
            "text/plain": [
              "<Figure size 432x288 with 1 Axes>"
            ]
          },
          "metadata": {
            "tags": [],
            "needs_background": "light"
          }
        }
      ]
    },
    {
      "cell_type": "code",
      "metadata": {
        "id": "HwtmsU2Jwidh"
      },
      "source": [
        "#Outliers in Respondents Age\n",
        "q1, q3 = np.percentile(dataset['Respondent Age'], [25, 75]) \n",
        "iqr = q3 - q1\n",
        "\n",
        "lower_bound = q1 - (iqr)\n",
        "upper_bound = q3 + (1.5 * iqr)\n",
        "\n",
        "dataset=dataset[~(dataset['Respondent Age']>upper_bound)]"
      ],
      "execution_count": 533,
      "outputs": []
    },
    {
      "cell_type": "code",
      "metadata": {
        "id": "e8_MurtpyVS9",
        "outputId": "a31b3acd-4b70-4575-8074-0955e8d95642",
        "colab": {
          "base_uri": "https://localhost:8080/",
          "height": 350
        }
      },
      "source": [
        "sns.boxplot(dataset['Respondent Age'])"
      ],
      "execution_count": 534,
      "outputs": [
        {
          "output_type": "stream",
          "text": [
            "/usr/local/lib/python3.6/dist-packages/seaborn/_decorators.py:43: FutureWarning: Pass the following variable as a keyword arg: x. From version 0.12, the only valid positional argument will be `data`, and passing other arguments without an explicit keyword will result in an error or misinterpretation.\n",
            "  FutureWarning\n"
          ],
          "name": "stderr"
        },
        {
          "output_type": "execute_result",
          "data": {
            "text/plain": [
              "<matplotlib.axes._subplots.AxesSubplot at 0x7f5bacf86710>"
            ]
          },
          "metadata": {
            "tags": []
          },
          "execution_count": 534
        },
        {
          "output_type": "display_data",
          "data": {
            "image/png": "[encoded data removed]",
            "text/plain": [
              "<Figure size 432x288 with 1 Axes>"
            ]
          },
          "metadata": {
            "tags": [],
            "needs_background": "light"
          }
        }
      ]
    },
    {
      "cell_type": "code",
      "metadata": {
        "id": "YAGDBthB3u6q"
      },
      "source": [
        "q1, q3 = np.percentile(dataset['Respondent Age'], [25, 75]) \n",
        "iqr = q3 - q1\n",
        "\n",
        "lower_bound = q1 - (iqr)\n",
        "upper_bound = q3 + (1.5 * iqr)\n",
        "\n",
        "dataset=dataset[~(dataset['Respondent Age']>upper_bound)]"
      ],
      "execution_count": 535,
      "outputs": []
    },
    {
      "cell_type": "code",
      "metadata": {
        "id": "Bb2WVjYC3xhP",
        "outputId": "7492da05-5cc1-4fc7-fec8-eefaa47a6cf1",
        "colab": {
          "base_uri": "https://localhost:8080/",
          "height": 350
        }
      },
      "source": [
        "sns.boxplot(dataset['Respondent Age'])"
      ],
      "execution_count": 536,
      "outputs": [
        {
          "output_type": "stream",
          "text": [
            "/usr/local/lib/python3.6/dist-packages/seaborn/_decorators.py:43: FutureWarning: Pass the following variable as a keyword arg: x. From version 0.12, the only valid positional argument will be `data`, and passing other arguments without an explicit keyword will result in an error or misinterpretation.\n",
            "  FutureWarning\n"
          ],
          "name": "stderr"
        },
        {
          "output_type": "execute_result",
          "data": {
            "text/plain": [
              "<matplotlib.axes._subplots.AxesSubplot at 0x7f5bacee17b8>"
            ]
          },
          "metadata": {
            "tags": []
          },
          "execution_count": 536
        },
        {
          "output_type": "display_data",
          "data": {
            "image/png": "[encoded data removed]",
            "text/plain": [
              "<Figure size 432x288 with 1 Axes>"
            ]
          },
          "metadata": {
            "tags": [],
            "needs_background": "light"
          }
        }
      ]
    },
    {
      "cell_type": "code",
      "metadata": {
        "id": "5ATBuF9JyYro",
        "outputId": "a48f9fac-37e5-407c-c758-85a630812b57",
        "colab": {
          "base_uri": "https://localhost:8080/",
          "height": 34
        }
      },
      "source": [
        "dataset.shape"
      ],
      "execution_count": 537,
      "outputs": [
        {
          "output_type": "execute_result",
          "data": {
            "text/plain": [
              "(22652, 13)"
            ]
          },
          "metadata": {
            "tags": []
          },
          "execution_count": 537
        }
      ]
    },
    {
      "cell_type": "markdown",
      "metadata": {
        "id": "oTD02r18zDIs"
      },
      "source": [
        "##Exploratory Analysis."
      ]
    },
    {
      "cell_type": "markdown",
      "metadata": {
        "id": "wPSO7UIK2Y_7"
      },
      "source": [
        "###1.Univariate Analysis\n"
      ]
    },
    {
      "cell_type": "code",
      "metadata": {
        "id": "xnCu9cVsye67",
        "outputId": "c8396074-b41c-47c9-8116-4314f862e356",
        "colab": {
          "base_uri": "https://localhost:8080/",
          "height": 281
        }
      },
      "source": [
        "#Histogram of respondent ages\n",
        "respondent_ages = dataset['Respondent Age']\n",
        "bins            = [0, 10, 20, 30, 40, 50, 60, 70, 80, 90, 100, 110, 120, 130]\n",
        "\n",
        "plt.hist(respondent_ages, bins=10, histtype='bar', rwidth=0.9)\n",
        "\n",
        "#plt.xlabel('x')\n",
        "#plt.ylabel('y')\n",
        "plt.title('Histogram of Respondents Ages') \n",
        "plt.show()"
      ],
      "execution_count": 538,
      "outputs": [
        {
          "output_type": "display_data",
          "data": {
            "image/png": "[encoded data removed]",
            "text/plain": [
              "<Figure size 432x288 with 1 Axes>"
            ]
          },
          "metadata": {
            "tags": [],
            "needs_background": "light"
          }
        }
      ]
    },
    {
      "cell_type": "code",
      "metadata": {
        "id": "LAzdleH1_Ph_",
        "outputId": "2f61d285-d523-408e-ddd5-4d17ae03b5c6",
        "colab": {
          "base_uri": "https://localhost:8080/",
          "height": 264
        }
      },
      "source": [
        "#Pie chart representation of Gender\n",
        "gender = dataset['gender_of_respondent'].value_counts()\n",
        "labels = ['Female','Male']\n",
        "\n",
        "plt.pie(gender, labels = labels, autopct = '%1.1f%%', shadow = True, startangle = 140)\n",
        "plt.axis('equal')\n",
        "plt.title('Pie Chart of Gender')\n",
        "plt.show()"
      ],
      "execution_count": 539,
      "outputs": [
        {
          "output_type": "display_data",
          "data": {
            "image/png": "[encoded data removed]",
            "text/plain": [
              "<Figure size 432x288 with 1 Axes>"
            ]
          },
          "metadata": {
            "tags": []
          }
        }
      ]
    },
    {
      "cell_type": "code",
      "metadata": {
        "id": "S3NWbp2v2NYA",
        "outputId": "e339cc2f-7768-4cb0-b903-e6dcf11441ff",
        "colab": {
          "base_uri": "https://localhost:8080/",
          "height": 264
        }
      },
      "source": [
        "#Pie chart representation of how the years were distributed\n",
        "\n",
        "year = dataset['year'].value_counts()\n",
        "labels = [2016,2018, 2017]\n",
        "colors = ['gold', 'yellowgreen', 'lightcoral']\n",
        "\n",
        "\n",
        "plt.pie(year, labels = labels,colors=colors, autopct = '%1.1f%%', shadow = True, startangle = 140)\n",
        "plt.axis('equal')\n",
        "plt.title('Pie Chart of Year')\n",
        "plt.show()\n"
      ],
      "execution_count": 540,
      "outputs": [
        {
          "output_type": "display_data",
          "data": {
            "image/png": "[encoded data removed]",
            "text/plain": [
              "<Figure size 432x288 with 1 Axes>"
            ]
          },
          "metadata": {
            "tags": []
          }
        }
      ]
    },
    {
      "cell_type": "code",
      "metadata": {
        "id": "3El4PxcD-EOT",
        "outputId": "e29ec48e-40a9-4c3e-89d5-1e204e6f3928",
        "colab": {
          "base_uri": "https://localhost:8080/",
          "height": 284
        }
      },
      "source": [
        "dataset.describe()"
      ],
      "execution_count": 541,
      "outputs": [
        {
          "output_type": "execute_result",
          "data": {
            "text/html": [
              "<div>\n",
              "<style scoped>\n",
              "    .dataframe tbody tr th:only-of-type {\n",
              "        vertical-align: middle;\n",
              "    }\n",
              "\n",
              "    .dataframe tbody tr th {\n",
              "        vertical-align: top;\n",
              "    }\n",
              "\n",
              "    .dataframe thead th {\n",
              "        text-align: right;\n",
              "    }\n",
              "</style>\n",
              "<table border=\"1\" class=\"dataframe\">\n",
              "  <thead>\n",
              "    <tr style=\"text-align: right;\">\n",
              "      <th></th>\n",
              "      <th>year</th>\n",
              "      <th>household_size</th>\n",
              "      <th>Respondent Age</th>\n",
              "    </tr>\n",
              "  </thead>\n",
              "  <tbody>\n",
              "    <tr>\n",
              "      <th>count</th>\n",
              "      <td>22652.000000</td>\n",
              "      <td>22652.000000</td>\n",
              "      <td>22652.000000</td>\n",
              "    </tr>\n",
              "    <tr>\n",
              "      <th>mean</th>\n",
              "      <td>2016.968435</td>\n",
              "      <td>3.584143</td>\n",
              "      <td>38.205854</td>\n",
              "    </tr>\n",
              "    <tr>\n",
              "      <th>std</th>\n",
              "      <td>0.846437</td>\n",
              "      <td>2.080757</td>\n",
              "      <td>15.631678</td>\n",
              "    </tr>\n",
              "    <tr>\n",
              "      <th>min</th>\n",
              "      <td>2016.000000</td>\n",
              "      <td>0.000000</td>\n",
              "      <td>16.000000</td>\n",
              "    </tr>\n",
              "    <tr>\n",
              "      <th>25%</th>\n",
              "      <td>2016.000000</td>\n",
              "      <td>2.000000</td>\n",
              "      <td>26.000000</td>\n",
              "    </tr>\n",
              "    <tr>\n",
              "      <th>50%</th>\n",
              "      <td>2017.000000</td>\n",
              "      <td>3.000000</td>\n",
              "      <td>35.000000</td>\n",
              "    </tr>\n",
              "    <tr>\n",
              "      <th>75%</th>\n",
              "      <td>2018.000000</td>\n",
              "      <td>5.000000</td>\n",
              "      <td>48.000000</td>\n",
              "    </tr>\n",
              "    <tr>\n",
              "      <th>max</th>\n",
              "      <td>2018.000000</td>\n",
              "      <td>9.000000</td>\n",
              "      <td>81.000000</td>\n",
              "    </tr>\n",
              "  </tbody>\n",
              "</table>\n",
              "</div>"
            ],
            "text/plain": [
              "               year  household_size  Respondent Age\n",
              "count  22652.000000    22652.000000    22652.000000\n",
              "mean    2016.968435        3.584143       38.205854\n",
              "std        0.846437        2.080757       15.631678\n",
              "min     2016.000000        0.000000       16.000000\n",
              "25%     2016.000000        2.000000       26.000000\n",
              "50%     2017.000000        3.000000       35.000000\n",
              "75%     2018.000000        5.000000       48.000000\n",
              "max     2018.000000        9.000000       81.000000"
            ]
          },
          "metadata": {
            "tags": []
          },
          "execution_count": 541
        }
      ]
    },
    {
      "cell_type": "code",
      "metadata": {
        "id": "dGCPr0N1BHiN",
        "outputId": "0cbbf7f5-cbbd-4c64-ef2d-8257a2c280dc",
        "colab": {
          "base_uri": "https://localhost:8080/",
          "height": 151
        }
      },
      "source": [
        "#Measures of central tendency\n",
        "#House hold size\n",
        "print('The household_size mean is ',dataset.household_size.mean())\n",
        "print('The household_size median is ',dataset.household_size.median())\n",
        "print('The household_size mode is ',dataset.household_size.mode())\n",
        "print('The household_size std is ',dataset.household_size.std())\n",
        "print('The household_size var is ',dataset.household_size.var())\n",
        "print('The household_size skewness is ',dataset.household_size.skew())\n",
        "print('The household_size kurtosis is ',dataset.household_size.kurt())"
      ],
      "execution_count": 542,
      "outputs": [
        {
          "output_type": "stream",
          "text": [
            "The household_size mean is  3.584142680558008\n",
            "The household_size median is  3.0\n",
            "The household_size mode is  0    2.0\n",
            "dtype: float64\n",
            "The household_size std is  2.08075693585575\n",
            "The household_size var is  4.329549426111809\n",
            "The household_size skewness is  0.6029374931143053\n",
            "The household_size kurtosis is  -0.5091220049695515\n"
          ],
          "name": "stdout"
        }
      ]
    },
    {
      "cell_type": "code",
      "metadata": {
        "id": "624W2Mt-BnXC",
        "outputId": "3a3c71b1-8203-4cac-af16-6bff1f57850a",
        "colab": {
          "base_uri": "https://localhost:8080/",
          "height": 151
        }
      },
      "source": [
        "print('The Respondent Age mean is ',dataset['Respondent Age'].mean())\n",
        "print('The Respondent Age median is ',dataset['Respondent Age'].median())\n",
        "print('The Respondent Age mode is ',dataset['Respondent Age'].mode())\n",
        "print('The Respondent Age standard deviation is ',dataset['Respondent Age'].std())\n",
        "print('The Respondent Age variance is ',dataset['Respondent Age'].var())\n",
        "print('The Respondent Age skewness is ',dataset['Respondent Age'].skew())\n",
        "print('The Respondent Age kurtosis is ',dataset['Respondent Age'].kurt())\n"
      ],
      "execution_count": 543,
      "outputs": [
        {
          "output_type": "stream",
          "text": [
            "The Respondent Age mean is  38.20585378774501\n",
            "The Respondent Age median is  35.0\n",
            "The Respondent Age mode is  0    30.0\n",
            "dtype: float64\n",
            "The Respondent Age standard deviation is  15.63167774046791\n",
            "The Respondent Age variance is  244.34934898183997\n",
            "The Respondent Age skewness is  0.7226033418619637\n",
            "The Respondent Age kurtosis is  -0.28141227316223816\n"
          ],
          "name": "stdout"
        }
      ]
    },
    {
      "cell_type": "markdown",
      "metadata": {
        "id": "i8jBq7q1IWrT"
      },
      "source": [
        "###2.*Bivariate* Analysis\n"
      ]
    },
    {
      "cell_type": "code",
      "metadata": {
        "id": "tbBmK3qlFP9I",
        "outputId": "c36c84cd-62f5-4a32-f01a-17bf28076f67",
        "colab": {
          "base_uri": "https://localhost:8080/",
          "height": 270
        }
      },
      "source": [
        "#Checking on our data correlation using a heat map\n",
        "\n",
        "sns.heatmap(dataset.corr(),annot=True)\n",
        "plt.show()"
      ],
      "execution_count": 544,
      "outputs": [
        {
          "output_type": "display_data",
          "data": {
            "image/png": "[encoded data removed]",
            "text/plain": [
              "<Figure size 432x288 with 2 Axes>"
            ]
          },
          "metadata": {
            "tags": [],
            "needs_background": "light"
          }
        }
      ]
    },
    {
      "cell_type": "code",
      "metadata": {
        "id": "-jUkXQCUawsn",
        "outputId": "03dffdba-b869-47d6-ebbf-cc9683e4f92e",
        "colab": {
          "base_uri": "https://localhost:8080/",
          "height": 101
        }
      },
      "source": [
        "dataset.columns"
      ],
      "execution_count": 545,
      "outputs": [
        {
          "output_type": "execute_result",
          "data": {
            "text/plain": [
              "Index(['country', 'year', 'uniqueid', 'Has a Bank account', 'Type of Location',\n",
              "       'Cell Phone Access', 'household_size', 'Respondent Age',\n",
              "       'gender_of_respondent', 'The relathip with head', 'marital_status',\n",
              "       'Level of Educuation', 'Type of Job'],\n",
              "      dtype='object')"
            ]
          },
          "metadata": {
            "tags": []
          },
          "execution_count": 545
        }
      ]
    },
    {
      "cell_type": "code",
      "metadata": {
        "id": "Jnl27hlaaOEg",
        "outputId": "59034a6a-a552-4019-8c85-a11348c60f16",
        "colab": {
          "base_uri": "https://localhost:8080/",
          "height": 1000
        }
      },
      "source": [
        "#Frequency Tables of columns in dataset\n",
        "print('The Frequency table for country column is ',dataset.country.value_counts())\n",
        "print('The Frequency table for year column is ',dataset.year.value_counts())\n",
        "print('The Frequency table for those with bank accounts column is ',dataset['Has a Bank account'].value_counts())\n",
        "print('The Frequency table for Location column is ',dataset['Type of Location'].value_counts())\n",
        "print('The Frequency table for household_size column is ',dataset.household_size.value_counts())\n",
        "print('The Frequency table for Respondent Age column is ',dataset['Respondent Age'].value_counts())\n",
        "print('The Frequency table for gender_of_respondent column is ',dataset.gender_of_respondent.value_counts())\n",
        "print('The Frequency table for relationship column is ',dataset['The relathip with head'].value_counts())\n",
        "print('The Frequency table for marital_status column is ',dataset.marital_status.value_counts())\n",
        "print('The Frequency table for Level of Educuation column is ',dataset['Level of Educuation'].value_counts())\n",
        "print('The Frequency table for Type of Job column is ',dataset['Type of Job'].value_counts())\n"
      ],
      "execution_count": 546,
      "outputs": [
        {
          "output_type": "stream",
          "text": [
            "The Frequency table for country column is  Rwanda      8483\n",
            "Tanzania    6401\n",
            "Kenya       5848\n",
            "Uganda      1920\n",
            "Name: country, dtype: int64\n",
            "The Frequency table for year column is  2016    8483\n",
            "2018    7768\n",
            "2017    6401\n",
            "Name: year, dtype: int64\n",
            "The Frequency table for those with bank accounts column is  No     19424\n",
            "Yes     3228\n",
            "Name: Has a Bank account, dtype: int64\n",
            "The Frequency table for Location column is  Rural    13758\n",
            "Urban     8894\n",
            "Name: Type of Location, dtype: int64\n",
            "The Frequency table for household_size column is  2.0    4981\n",
            "1.0    3822\n",
            "3.0    3461\n",
            "4.0    3176\n",
            "5.0    2702\n",
            "6.0    2018\n",
            "7.0    1373\n",
            "8.0     740\n",
            "9.0     352\n",
            "0.0      27\n",
            "Name: household_size, dtype: int64\n",
            "The Frequency table for Respondent Age column is  30.0    1036\n",
            "35.0     823\n",
            "25.0     773\n",
            "28.0     737\n",
            "32.0     699\n",
            "        ... \n",
            "76.0      70\n",
            "74.0      61\n",
            "79.0      57\n",
            "77.0      56\n",
            "81.0      24\n",
            "Name: Respondent Age, Length: 66, dtype: int64\n",
            "The Frequency table for gender_of_respondent column is  Female    13362\n",
            "Male       9290\n",
            "Name: gender_of_respondent, dtype: int64\n",
            "The Frequency table for relationship column is  Head of Household      12340\n",
            "Spouse                  6357\n",
            "Child                   2126\n",
            "Parent                  1009\n",
            "Other relative           640\n",
            "Other non-relatives      180\n",
            "Name: The relathip with head, dtype: int64\n",
            "The Frequency table for marital_status column is  Married/Living together    10413\n",
            "Single/Never Married        7738\n",
            "Widowed                     2468\n",
            "Divorced/Seperated          2025\n",
            "Dont know                      8\n",
            "Name: marital_status, dtype: int64\n",
            "The Frequency table for Level of Educuation column is  Primary education                  12415\n",
            "No formal education                 4193\n",
            "Secondary education                 4095\n",
            "Tertiary education                  1133\n",
            "Vocational/Specialised training      785\n",
            "6                                     25\n",
            "Other/Dont know/RTA                    6\n",
            "Name: Level of Educuation, dtype: int64\n",
            "The Frequency table for Type of Job column is  Self employed                   6197\n",
            "Informally employed             5486\n",
            "Farming and Fishing             5271\n",
            "Remittance Dependent            2358\n",
            "Formally employed Private       1035\n",
            "Other Income                    1024\n",
            "No Income                        581\n",
            "Formally employed Government     382\n",
            "Government Dependent             200\n",
            "Dont Know/Refuse to answer       118\n",
            "Name: Type of Job, dtype: int64\n"
          ],
          "name": "stdout"
        }
      ]
    },
    {
      "cell_type": "code",
      "metadata": {
        "id": "2hZxkdMnHEcj",
        "outputId": "6766ddf4-d184-4441-d4a0-84529e9f9222",
        "colab": {
          "base_uri": "https://localhost:8080/",
          "height": 550
        }
      },
      "source": [
        "#Plotting bivariate summaries\n",
        "sns.pairplot(dataset)\n",
        "plt.show()"
      ],
      "execution_count": 547,
      "outputs": [
        {
          "output_type": "display_data",
          "data": {
            "image/png": "[encoded data removed]",
            "text/plain": [
              "<Figure size 540x540 with 12 Axes>"
            ]
          },
          "metadata": {
            "tags": [],
            "needs_background": "light"
          }
        }
      ]
    },
    {
      "cell_type": "code",
      "metadata": {
        "id": "AnD7bIgrJXqK",
        "outputId": "00012aad-2a5d-4a27-d5ee-ccc149e444cc",
        "colab": {
          "base_uri": "https://localhost:8080/",
          "height": 281
        }
      },
      "source": [
        "#scatter plot\n",
        "\n",
        "plt.scatter(dataset['household_size'], dataset['Respondent Age'])\n",
        "plt.title('Respondent Age vs household_size')\n",
        "#plt.xlabel('household_size')\n",
        "#plt.ylabel('Respondent Age')\n",
        "plt.show()"
      ],
      "execution_count": 548,
      "outputs": [
        {
          "output_type": "display_data",
          "data": {
            "image/png": "[encoded data removed]",
            "text/plain": [
              "<Figure size 432x288 with 1 Axes>"
            ]
          },
          "metadata": {
            "tags": [],
            "needs_background": "light"
          }
        }
      ]
    },
    {
      "cell_type": "code",
      "metadata": {
        "id": "uPhf95_a7Xzo",
        "outputId": "4cfbf67f-da19-486f-861f-daee991cf400",
        "colab": {
          "base_uri": "https://localhost:8080/",
          "height": 366
        }
      },
      "source": [
        "#stacked bars\n",
        "#from sklearn.preprocessing import LabelEncoder\n",
        "#le = LabelEncoder()\n",
        "#dataset['The relathip with head']=le.fit_transform(dataset['The relathip with head'])\n",
        "\n",
        "dataset.head()"
      ],
      "execution_count": 549,
      "outputs": [
        {
          "output_type": "execute_result",
          "data": {
            "text/html": [
              "<div>\n",
              "<style scoped>\n",
              "    .dataframe tbody tr th:only-of-type {\n",
              "        vertical-align: middle;\n",
              "    }\n",
              "\n",
              "    .dataframe tbody tr th {\n",
              "        vertical-align: top;\n",
              "    }\n",
              "\n",
              "    .dataframe thead th {\n",
              "        text-align: right;\n",
              "    }\n",
              "</style>\n",
              "<table border=\"1\" class=\"dataframe\">\n",
              "  <thead>\n",
              "    <tr style=\"text-align: right;\">\n",
              "      <th></th>\n",
              "      <th>country</th>\n",
              "      <th>year</th>\n",
              "      <th>uniqueid</th>\n",
              "      <th>Has a Bank account</th>\n",
              "      <th>Type of Location</th>\n",
              "      <th>Cell Phone Access</th>\n",
              "      <th>household_size</th>\n",
              "      <th>Respondent Age</th>\n",
              "      <th>gender_of_respondent</th>\n",
              "      <th>The relathip with head</th>\n",
              "      <th>marital_status</th>\n",
              "      <th>Level of Educuation</th>\n",
              "      <th>Type of Job</th>\n",
              "    </tr>\n",
              "  </thead>\n",
              "  <tbody>\n",
              "    <tr>\n",
              "      <th>0</th>\n",
              "      <td>Kenya</td>\n",
              "      <td>2018</td>\n",
              "      <td>uniqueid_1</td>\n",
              "      <td>Yes</td>\n",
              "      <td>Rural</td>\n",
              "      <td>Yes</td>\n",
              "      <td>3.0</td>\n",
              "      <td>24.0</td>\n",
              "      <td>Female</td>\n",
              "      <td>Spouse</td>\n",
              "      <td>Married/Living together</td>\n",
              "      <td>Secondary education</td>\n",
              "      <td>Self employed</td>\n",
              "    </tr>\n",
              "    <tr>\n",
              "      <th>1</th>\n",
              "      <td>Kenya</td>\n",
              "      <td>2018</td>\n",
              "      <td>uniqueid_2</td>\n",
              "      <td>No</td>\n",
              "      <td>Rural</td>\n",
              "      <td>No</td>\n",
              "      <td>5.0</td>\n",
              "      <td>70.0</td>\n",
              "      <td>Female</td>\n",
              "      <td>Head of Household</td>\n",
              "      <td>Widowed</td>\n",
              "      <td>No formal education</td>\n",
              "      <td>Government Dependent</td>\n",
              "    </tr>\n",
              "    <tr>\n",
              "      <th>2</th>\n",
              "      <td>Kenya</td>\n",
              "      <td>2018</td>\n",
              "      <td>uniqueid_3</td>\n",
              "      <td>Yes</td>\n",
              "      <td>Urban</td>\n",
              "      <td>Yes</td>\n",
              "      <td>5.0</td>\n",
              "      <td>26.0</td>\n",
              "      <td>Male</td>\n",
              "      <td>Other relative</td>\n",
              "      <td>Single/Never Married</td>\n",
              "      <td>Vocational/Specialised training</td>\n",
              "      <td>Self employed</td>\n",
              "    </tr>\n",
              "    <tr>\n",
              "      <th>3</th>\n",
              "      <td>Kenya</td>\n",
              "      <td>2018</td>\n",
              "      <td>uniqueid_4</td>\n",
              "      <td>No</td>\n",
              "      <td>Rural</td>\n",
              "      <td>Yes</td>\n",
              "      <td>5.0</td>\n",
              "      <td>34.0</td>\n",
              "      <td>Female</td>\n",
              "      <td>Head of Household</td>\n",
              "      <td>Married/Living together</td>\n",
              "      <td>Primary education</td>\n",
              "      <td>Formally employed Private</td>\n",
              "    </tr>\n",
              "    <tr>\n",
              "      <th>4</th>\n",
              "      <td>Kenya</td>\n",
              "      <td>2018</td>\n",
              "      <td>uniqueid_5</td>\n",
              "      <td>No</td>\n",
              "      <td>Urban</td>\n",
              "      <td>No</td>\n",
              "      <td>8.0</td>\n",
              "      <td>26.0</td>\n",
              "      <td>Male</td>\n",
              "      <td>Child</td>\n",
              "      <td>Single/Never Married</td>\n",
              "      <td>Primary education</td>\n",
              "      <td>Informally employed</td>\n",
              "    </tr>\n",
              "  </tbody>\n",
              "</table>\n",
              "</div>"
            ],
            "text/plain": [
              "  country  year  ...              Level of Educuation                Type of Job\n",
              "0   Kenya  2018  ...              Secondary education              Self employed\n",
              "1   Kenya  2018  ...              No formal education       Government Dependent\n",
              "2   Kenya  2018  ...  Vocational/Specialised training              Self employed\n",
              "3   Kenya  2018  ...                Primary education  Formally employed Private\n",
              "4   Kenya  2018  ...                Primary education        Informally employed\n",
              "\n",
              "[5 rows x 13 columns]"
            ]
          },
          "metadata": {
            "tags": []
          },
          "execution_count": 549
        }
      ]
    },
    {
      "cell_type": "code",
      "metadata": {
        "id": "md-doo8VC2Od",
        "outputId": "b2b4f8ac-486b-4fe0-85a0-f208ac6a0d4f",
        "colab": {
          "base_uri": "https://localhost:8080/",
          "height": 437
        }
      },
      "source": [
        "#representing gender of respondents with and without bank accounts in stacked bars\n",
        "#\n",
        "\n",
        "#gender_female = (dataset['gender_of_respondent'] == 'Female').count()\n",
        "#gender_male = (dataset['gender_of_respondent'] == 'Male').count()\n",
        "\n",
        "with_accounts=dataset[['gender_of_respondent','uniqueid']][dataset['Has a Bank account']=='Yes']\n",
        "without_accounts=dataset[['gender_of_respondent','uniqueid']][dataset['Has a Bank account']=='No']\n",
        "\n",
        "with_accounts = with_accounts.groupby(['gender_of_respondent']).count()\n",
        "without_acounts = without_accounts.groupby(['gender_of_respondent']).count()\n",
        "with_accounts\n",
        "\n",
        "with_accounts.rename(columns = {'uniqueid':'Yes'}, inplace = True)\n",
        "without_acounts.rename(columns = {'uniqueid':'No'}, inplace = True)\n",
        "with_accounts\n",
        "without_acounts\n",
        "\n",
        "df = pd.merge(with_accounts,without_acounts, right_on='gender_of_respondent',left_on='gender_of_respondent')\n",
        "df.columns\n",
        "\n",
        "color = [\"darkseagreen\",\"palegreen\"]\n",
        "\n",
        "#plot\n",
        "df.plot(kind='bar', figsize=(8, 6),color= color, stacked=True)\n",
        "plt.title(\"Respondents with and without Accounts\", fontsize=14, y=1.015)\n",
        "plt.ylabel='Number Respondents'\n",
        "plt.xlabel=('gender_of_respondent')\n",
        "plt.show()"
      ],
      "execution_count": 550,
      "outputs": [
        {
          "output_type": "display_data",
          "data": {
            "image/png": "[encoded data removed]",
            "text/plain": [
              "<Figure size 576x432 with 1 Axes>"
            ]
          },
          "metadata": {
            "tags": [],
            "needs_background": "light"
          }
        }
      ]
    },
    {
      "cell_type": "code",
      "metadata": {
        "id": "dQ51kq9AEMjQ",
        "outputId": "4ea13b9b-068c-4847-a725-5fe24ff4f7ec",
        "colab": {
          "base_uri": "https://localhost:8080/",
          "height": 430
        }
      },
      "source": [
        "#Representing location of respondents with and with no bank accounts\n",
        "\n",
        "loc_with_accounts=dataset[['Type of Location','uniqueid']][dataset['Has a Bank account']=='Yes']\n",
        "loc_without_accounts=dataset[['Type of Location','uniqueid']][dataset['Has a Bank account']=='No']\n",
        "loc_without_accounts\n",
        "\n",
        "#grouping by location to find the count\n",
        "loc_with_accounts = loc_with_accounts.groupby(['Type of Location']).count()\n",
        "loc_without_acounts = loc_without_accounts.groupby(['Type of Location']).count()\n",
        "loc_with_accounts\n",
        "\n",
        "#I'll just rename The uniqueid column to yes and no to show number of respondents with and without accounts\n",
        "loc_with_accounts.rename(columns = {'uniqueid':'Yes'}, inplace = True)\n",
        "loc_without_acounts.rename(columns = {'uniqueid':'No'}, inplace = True)\n",
        "loc_with_accounts\n",
        "loc_without_acounts\n",
        "\n",
        "#merge the two to come up with a dataset with both volumns\n",
        "df1 = pd.merge(loc_with_accounts,loc_without_acounts, right_on='Type of Location',left_on='Type of Location')\n",
        "df1\n",
        "\n",
        "color = [\"deepskyblue\",\"lightyellow\"]\n",
        "\n",
        "#plot\n",
        "df1.plot(kind='bar', figsize=(8, 6), color=color,stacked=True)\n",
        "plt.title(\"Location of Respondents with and without Accounts\", fontsize=14, y=1.015)\n",
        "plt.ylabel='Number Respondents'\n",
        "plt.xlabel=('Type of Location')\n",
        "plt.show()"
      ],
      "execution_count": 551,
      "outputs": [
        {
          "output_type": "display_data",
          "data": {
            "image/png": "[encoded data removed]",
            "text/plain": [
              "<Figure size 576x432 with 1 Axes>"
            ]
          },
          "metadata": {
            "tags": [],
            "needs_background": "light"
          }
        }
      ]
    },
    {
      "cell_type": "code",
      "metadata": {
        "id": "BlnEPIK5jCTk",
        "outputId": "1eba48d2-6343-4abd-839d-3f520dcf6556",
        "colab": {
          "base_uri": "https://localhost:8080/",
          "height": 101
        }
      },
      "source": [
        "dataset['Type of Job'].unique()"
      ],
      "execution_count": 552,
      "outputs": [
        {
          "output_type": "execute_result",
          "data": {
            "text/plain": [
              "array(['Self employed', 'Government Dependent',\n",
              "       'Formally employed Private', 'Informally employed',\n",
              "       'Formally employed Government', 'Farming and Fishing',\n",
              "       'Remittance Dependent', 'Other Income',\n",
              "       'Dont Know/Refuse to answer', 'No Income'], dtype=object)"
            ]
          },
          "metadata": {
            "tags": []
          },
          "execution_count": 552
        }
      ]
    },
    {
      "cell_type": "code",
      "metadata": {
        "id": "PVHNVIlpdd6p",
        "outputId": "15863362-f65f-4ddc-9e46-85ae8620f62d",
        "colab": {
          "base_uri": "https://localhost:8080/",
          "height": 560
        }
      },
      "source": [
        "#Representing type of job of respondents with and with no bank accounts\n",
        "\n",
        "with_acc=dataset[['Type of Job','uniqueid']][dataset['Has a Bank account']=='Yes']\n",
        "without_acc=dataset[['Type of Job','uniqueid']][dataset['Has a Bank account']=='No']\n",
        "with_acc\n",
        "\n",
        "#grouping by Type of job to find the count\n",
        "with_acc = with_acc.groupby(['Type of Job']).count()\n",
        "without_acc = without_acc.groupby(['Type of Job']).count()\n",
        "without_acc\n",
        "\n",
        "#I'll just rename The uniqueid column to yes and no to show number of respondents with and without accounts\n",
        "with_acc.rename(columns = {'uniqueid':'Yes'}, inplace = True)\n",
        "without_acc.rename(columns = {'uniqueid':'No'}, inplace = True)\n",
        "with_acc\n",
        "without_acc\n",
        "\n",
        "#merge the two to come up with a dataset with both volumns\n",
        "df2 = pd.merge(with_acc,without_acc, right_on='Type of Job',left_on='Type of Job')\n",
        "df2\n",
        "\n",
        "color = [\"firebrick\",'lightsalmon']\n",
        "\n",
        "#plot\n",
        "df2.plot(kind='bar', figsize=(8, 6), color=color,stacked=True)\n",
        "plt.title(\"Type of Job of Respondents of Respondents with and without Accounts\", fontsize=14, y=1.015)\n",
        "plt.ylabel='Number Respondents'\n",
        "plt.xlabel=('Type of Location')\n",
        "plt.show()"
      ],
      "execution_count": 553,
      "outputs": [
        {
          "output_type": "display_data",
          "data": {
            "image/png": "[encoded data removed]",
            "text/plain": [
              "<Figure size 576x432 with 1 Axes>"
            ]
          },
          "metadata": {
            "tags": [],
            "needs_background": "light"
          }
        }
      ]
    },
    {
      "cell_type": "code",
      "metadata": {
        "id": "fh_VtAvVj6kg",
        "outputId": "46945cbd-d162-4f40-8487-f3386c0588c9",
        "colab": {
          "base_uri": "https://localhost:8080/",
          "height": 554
        }
      },
      "source": [
        "#Representing level of education  of respondents with and with no bank accounts\n",
        "\n",
        "with_acc=dataset[['Level of Educuation','uniqueid']][dataset['Has a Bank account']=='Yes']\n",
        "without_acc=dataset[['Level of Educuation','uniqueid']][dataset['Has a Bank account']=='No']\n",
        "with_acc\n",
        "\n",
        "#grouping by Type of job to find the count\n",
        "with_acc = with_acc.groupby(['Level of Educuation']).count()\n",
        "without_acc = without_acc.groupby(['Level of Educuation']).count()\n",
        "without_acc\n",
        "\n",
        "#I'll just rename The uniqueid column to yes and no to show number of respondents with and without accounts\n",
        "with_acc.rename(columns = {'uniqueid':'Yes'}, inplace = True)\n",
        "without_acc.rename(columns = {'uniqueid':'No'}, inplace = True)\n",
        "with_acc\n",
        "without_acc\n",
        "\n",
        "#merge the two to come up with a dataset with both volumns\n",
        "df3 = pd.merge(with_acc,without_acc, right_on='Level of Educuation',left_on='Level of Educuation')\n",
        "df3\n",
        "\n",
        "color = [\"navy\",'cornflowerblue']\n",
        "\n",
        "#plot\n",
        "df3.plot(kind='bar', figsize=(8, 6), color=color,stacked=True)\n",
        "plt.title(\"Level of Education for Respondents of Respondents with and without Accounts\", fontsize=14, y=1.015)\n",
        "plt.ylabel=('Number Respondents')\n",
        "plt.xlabel=('Level of Education')\n",
        "plt.show()"
      ],
      "execution_count": 554,
      "outputs": [
        {
          "output_type": "display_data",
          "data": {
            "image/png": "[encoded data removed]",
            "text/plain": [
              "<Figure size 576x432 with 1 Axes>"
            ]
          },
          "metadata": {
            "tags": [],
            "needs_background": "light"
          }
        }
      ]
    },
    {
      "cell_type": "code",
      "metadata": {
        "id": "b4qUtPldo5ca",
        "outputId": "58a461db-675a-45c9-f764-165247489aeb",
        "colab": {
          "base_uri": "https://localhost:8080/",
          "height": 443
        }
      },
      "source": [
        "#Representing  country  of respondents with and with no bank accounts\n",
        "\n",
        "with_acc=dataset[['country','uniqueid']][dataset['Has a Bank account']=='Yes']\n",
        "without_acc=dataset[['country','uniqueid']][dataset['Has a Bank account']=='No']\n",
        "with_acc\n",
        "\n",
        "#grouping by Type of job to find the count\n",
        "with_acc = with_acc.groupby(['country']).count()\n",
        "without_acc = without_acc.groupby(['country']).count()\n",
        "without_acc\n",
        "\n",
        "#I'll just rename The uniqueid column to yes and no to show number of respondents with and without accounts\n",
        "with_acc.rename(columns = {'uniqueid':'Yes'}, inplace = True)\n",
        "without_acc.rename(columns = {'uniqueid':'No'}, inplace = True)\n",
        "with_acc\n",
        "without_acc\n",
        "\n",
        "#merge the two to come up with a dataset with both volumns\n",
        "df4 = pd.merge(with_acc,without_acc, right_on='country',left_on='country')\n",
        "df4\n",
        "\n",
        "color = [\"darkcyan\",'cyan']\n",
        "\n",
        "#plot\n",
        "df4.plot(kind='bar', figsize=(8, 6), color=color,stacked=True)\n",
        "plt.title(\"Country for Respondents of Respondents with and without Accounts\", fontsize=14, y=1.015)\n",
        "plt.ylabel=('Number Respondents')\n",
        "plt.xlabel=('Country')\n",
        "plt.show()"
      ],
      "execution_count": 555,
      "outputs": [
        {
          "output_type": "display_data",
          "data": {
            "image/png": "[encoded data removed]",
            "text/plain": [
              "<Figure size 576x432 with 1 Axes>"
            ]
          },
          "metadata": {
            "tags": [],
            "needs_background": "light"
          }
        }
      ]
    },
    {
      "cell_type": "markdown",
      "metadata": {
        "id": "PvNssG9gtxjO"
      },
      "source": [
        ""
      ]
    },
    {
      "cell_type": "code",
      "metadata": {
        "id": "nJo7y9A4rRcG",
        "outputId": "f5206995-1bac-47cb-89b3-b00f96d18604",
        "colab": {
          "base_uri": "https://localhost:8080/",
          "height": 84
        }
      },
      "source": [
        "#Getting the ztest\n",
        "from scipy import stats\n",
        "print('The ztest score for House hold size is ',stats.zscore(dataset['household_size']))\n",
        "print('The ztest score for House hold size is ',stats.zscore(dataset['Respondent Age']))\n"
      ],
      "execution_count": 556,
      "outputs": [
        {
          "output_type": "stream",
          "text": [
            "The ztest score for House hold size is  [-0.28074186  0.68046803  0.68046803 ... -0.76134681  0.68046803\n",
            "  1.64167792]\n",
            "The ztest score for House hold size is  [-0.90880631  2.03400099 -0.78085817 ... -0.71688409 -0.71688409\n",
            " -0.52496188]\n"
          ],
          "name": "stdout"
        }
      ]
    },
    {
      "cell_type": "code",
      "metadata": {
        "id": "kC73EP6PtOpq",
        "outputId": "933133f1-af8d-4e7d-b52c-d411544edcdb",
        "colab": {
          "base_uri": "https://localhost:8080/",
          "height": 50
        }
      },
      "source": [
        "#Computing ttest \n",
        "from scipy.stats import ttest_1samp\n",
        "\n",
        "x = dataset['household_size']\n",
        "expected_mean = 0\n",
        "\n",
        "tx_statistic, p_value = ttest_1samp(x, expected_mean, axis = 0)\n",
        "print('The ttest score for  household_size is ',tx_statistic)\n",
        "\n",
        "\n",
        "y = dataset['Respondent Age']\n",
        "expected_mean = 0\n",
        "\n",
        "ty_statistic, p_value = ttest_1samp(y, expected_mean, axis = 0)\n",
        "\n",
        "print('The ttest score for Respondent Age is ',ty_statistic)\n"
      ],
      "execution_count": 557,
      "outputs": [
        {
          "output_type": "stream",
          "text": [
            "The ttest score for  household_size is  259.2490750672392\n",
            "The ttest score for Respondent Age is  367.85578703019246\n"
          ],
          "name": "stdout"
        }
      ]
    },
    {
      "cell_type": "code",
      "metadata": {
        "id": "TlwleJwRulnq",
        "outputId": "3f3bc548-b508-4d14-9e2c-814ae59a3863",
        "colab": {
          "base_uri": "https://localhost:8080/",
          "height": 34
        }
      },
      "source": [
        "#computing ttest for two independent samples\n",
        "from scipy.stats import ttest_ind\n",
        "\n",
        "x = dataset['household_size']\n",
        "y = dataset['Respondent Age']\n",
        "\n",
        "# Then calculating the t-test\n",
        "t_statistic, p_value = ttest_ind(x, y)\n",
        "\n",
        "# Then displaying the t-statistic\n",
        "t_statistic"
      ],
      "execution_count": 558,
      "outputs": [
        {
          "output_type": "execute_result",
          "data": {
            "text/plain": [
              "-330.4321812303267"
            ]
          },
          "metadata": {
            "tags": []
          },
          "execution_count": 558
        }
      ]
    },
    {
      "cell_type": "markdown",
      "metadata": {
        "id": "HanEqTaTynEn"
      },
      "source": [
        "###3.*Multivariate* Analysis\n"
      ]
    },
    {
      "cell_type": "markdown",
      "metadata": {
        "id": "l6BYpGdOyrXM"
      },
      "source": [
        "###i.Principal Component Analysis"
      ]
    },
    {
      "cell_type": "markdown",
      "metadata": {
        "id": "Z1jSvSkNJFk3"
      },
      "source": [
        "####a.Loading dataset"
      ]
    },
    {
      "cell_type": "code",
      "metadata": {
        "id": "ty1NWPwTvvy6",
        "outputId": "10f12a5b-0e45-418b-afa2-b095624bddb6",
        "colab": {
          "base_uri": "https://localhost:8080/",
          "height": 257
        }
      },
      "source": [
        "dataset_pca = dataset\n",
        "dataset_pca.head(3)"
      ],
      "execution_count": 559,
      "outputs": [
        {
          "output_type": "execute_result",
          "data": {
            "text/html": [
              "<div>\n",
              "<style scoped>\n",
              "    .dataframe tbody tr th:only-of-type {\n",
              "        vertical-align: middle;\n",
              "    }\n",
              "\n",
              "    .dataframe tbody tr th {\n",
              "        vertical-align: top;\n",
              "    }\n",
              "\n",
              "    .dataframe thead th {\n",
              "        text-align: right;\n",
              "    }\n",
              "</style>\n",
              "<table border=\"1\" class=\"dataframe\">\n",
              "  <thead>\n",
              "    <tr style=\"text-align: right;\">\n",
              "      <th></th>\n",
              "      <th>country</th>\n",
              "      <th>year</th>\n",
              "      <th>uniqueid</th>\n",
              "      <th>Has a Bank account</th>\n",
              "      <th>Type of Location</th>\n",
              "      <th>Cell Phone Access</th>\n",
              "      <th>household_size</th>\n",
              "      <th>Respondent Age</th>\n",
              "      <th>gender_of_respondent</th>\n",
              "      <th>The relathip with head</th>\n",
              "      <th>marital_status</th>\n",
              "      <th>Level of Educuation</th>\n",
              "      <th>Type of Job</th>\n",
              "    </tr>\n",
              "  </thead>\n",
              "  <tbody>\n",
              "    <tr>\n",
              "      <th>0</th>\n",
              "      <td>Kenya</td>\n",
              "      <td>2018</td>\n",
              "      <td>uniqueid_1</td>\n",
              "      <td>Yes</td>\n",
              "      <td>Rural</td>\n",
              "      <td>Yes</td>\n",
              "      <td>3.0</td>\n",
              "      <td>24.0</td>\n",
              "      <td>Female</td>\n",
              "      <td>Spouse</td>\n",
              "      <td>Married/Living together</td>\n",
              "      <td>Secondary education</td>\n",
              "      <td>Self employed</td>\n",
              "    </tr>\n",
              "    <tr>\n",
              "      <th>1</th>\n",
              "      <td>Kenya</td>\n",
              "      <td>2018</td>\n",
              "      <td>uniqueid_2</td>\n",
              "      <td>No</td>\n",
              "      <td>Rural</td>\n",
              "      <td>No</td>\n",
              "      <td>5.0</td>\n",
              "      <td>70.0</td>\n",
              "      <td>Female</td>\n",
              "      <td>Head of Household</td>\n",
              "      <td>Widowed</td>\n",
              "      <td>No formal education</td>\n",
              "      <td>Government Dependent</td>\n",
              "    </tr>\n",
              "    <tr>\n",
              "      <th>2</th>\n",
              "      <td>Kenya</td>\n",
              "      <td>2018</td>\n",
              "      <td>uniqueid_3</td>\n",
              "      <td>Yes</td>\n",
              "      <td>Urban</td>\n",
              "      <td>Yes</td>\n",
              "      <td>5.0</td>\n",
              "      <td>26.0</td>\n",
              "      <td>Male</td>\n",
              "      <td>Other relative</td>\n",
              "      <td>Single/Never Married</td>\n",
              "      <td>Vocational/Specialised training</td>\n",
              "      <td>Self employed</td>\n",
              "    </tr>\n",
              "  </tbody>\n",
              "</table>\n",
              "</div>"
            ],
            "text/plain": [
              "  country  year  ...              Level of Educuation           Type of Job\n",
              "0   Kenya  2018  ...              Secondary education         Self employed\n",
              "1   Kenya  2018  ...              No formal education  Government Dependent\n",
              "2   Kenya  2018  ...  Vocational/Specialised training         Self employed\n",
              "\n",
              "[3 rows x 13 columns]"
            ]
          },
          "metadata": {
            "tags": []
          },
          "execution_count": 559
        }
      ]
    },
    {
      "cell_type": "code",
      "metadata": {
        "id": "lFLQMstC0sCb",
        "outputId": "829fe90c-a8b1-43a5-c35f-f046ec1239da",
        "colab": {
          "base_uri": "https://localhost:8080/",
          "height": 101
        }
      },
      "source": [
        "dataset_pca.columns"
      ],
      "execution_count": 560,
      "outputs": [
        {
          "output_type": "execute_result",
          "data": {
            "text/plain": [
              "Index(['country', 'year', 'uniqueid', 'Has a Bank account', 'Type of Location',\n",
              "       'Cell Phone Access', 'household_size', 'Respondent Age',\n",
              "       'gender_of_respondent', 'The relathip with head', 'marital_status',\n",
              "       'Level of Educuation', 'Type of Job'],\n",
              "      dtype='object')"
            ]
          },
          "metadata": {
            "tags": []
          },
          "execution_count": 560
        }
      ]
    },
    {
      "cell_type": "markdown",
      "metadata": {
        "id": "_p0kYYP9JT1H"
      },
      "source": [
        "####b.Preparing dataset"
      ]
    },
    {
      "cell_type": "code",
      "metadata": {
        "id": "xehwwlKB0TQB"
      },
      "source": [
        "#drop columns not needed\n",
        "dataset_pca = dataset_pca.drop('uniqueid', 1)"
      ],
      "execution_count": 561,
      "outputs": []
    },
    {
      "cell_type": "code",
      "metadata": {
        "id": "F4TvLjZ3z0ls"
      },
      "source": [
        "#Label encode the dataset\n",
        "from sklearn.preprocessing import LabelEncoder\n",
        "le=LabelEncoder()\n",
        "dataset_pca.country=le.fit_transform(dataset_pca.country)\n",
        "dataset_pca['year']=le.fit_transform(dataset_pca['year'])\n",
        "dataset_pca['Type of Location']=le.fit_transform(dataset_pca['Type of Location'])\n",
        "dataset_pca['Cell Phone Access']=le.fit_transform(dataset_pca['Cell Phone Access'])\n",
        "dataset_pca['household_size']=le.fit_transform(dataset_pca['household_size'])\n",
        "dataset_pca['Respondent Age']=le.fit_transform(dataset_pca['Respondent Age'])\n",
        "dataset_pca['gender_of_respondent']=le.fit_transform(dataset_pca['gender_of_respondent'])\n",
        "dataset_pca['The relathip with head']=le.fit_transform(dataset_pca['The relathip with head'])\n",
        "dataset_pca['marital_status']=le.fit_transform(dataset_pca['marital_status'])\n",
        "dataset_pca['Level of Educuation']=le.fit_transform(dataset_pca['Level of Educuation'])\n",
        "dataset_pca['Type of Job']=le.fit_transform(dataset_pca['Type of Job'])\n"
      ],
      "execution_count": 562,
      "outputs": []
    },
    {
      "cell_type": "markdown",
      "metadata": {
        "id": "gvkAGOkXJZvU"
      },
      "source": [
        "####c.Dividing dataset"
      ]
    },
    {
      "cell_type": "code",
      "metadata": {
        "id": "oIqpoleVzDkT"
      },
      "source": [
        "#dividing the dataset into feature and label\n",
        "X = dataset_pca.drop('Has a Bank account', 1)\n",
        "y = dataset_pca['Has a Bank account']"
      ],
      "execution_count": 563,
      "outputs": []
    },
    {
      "cell_type": "code",
      "metadata": {
        "id": "E4PHzS4r1kCS",
        "outputId": "03001ce8-f79a-4436-afa5-2e143aa3c58d",
        "colab": {
          "base_uri": "https://localhost:8080/",
          "height": 170
        }
      },
      "source": [
        "dataset_pca.head(3)"
      ],
      "execution_count": 564,
      "outputs": [
        {
          "output_type": "execute_result",
          "data": {
            "text/html": [
              "<div>\n",
              "<style scoped>\n",
              "    .dataframe tbody tr th:only-of-type {\n",
              "        vertical-align: middle;\n",
              "    }\n",
              "\n",
              "    .dataframe tbody tr th {\n",
              "        vertical-align: top;\n",
              "    }\n",
              "\n",
              "    .dataframe thead th {\n",
              "        text-align: right;\n",
              "    }\n",
              "</style>\n",
              "<table border=\"1\" class=\"dataframe\">\n",
              "  <thead>\n",
              "    <tr style=\"text-align: right;\">\n",
              "      <th></th>\n",
              "      <th>country</th>\n",
              "      <th>year</th>\n",
              "      <th>Has a Bank account</th>\n",
              "      <th>Type of Location</th>\n",
              "      <th>Cell Phone Access</th>\n",
              "      <th>household_size</th>\n",
              "      <th>Respondent Age</th>\n",
              "      <th>gender_of_respondent</th>\n",
              "      <th>The relathip with head</th>\n",
              "      <th>marital_status</th>\n",
              "      <th>Level of Educuation</th>\n",
              "      <th>Type of Job</th>\n",
              "    </tr>\n",
              "  </thead>\n",
              "  <tbody>\n",
              "    <tr>\n",
              "      <th>0</th>\n",
              "      <td>0</td>\n",
              "      <td>2</td>\n",
              "      <td>Yes</td>\n",
              "      <td>0</td>\n",
              "      <td>1</td>\n",
              "      <td>3</td>\n",
              "      <td>8</td>\n",
              "      <td>0</td>\n",
              "      <td>5</td>\n",
              "      <td>2</td>\n",
              "      <td>4</td>\n",
              "      <td>9</td>\n",
              "    </tr>\n",
              "    <tr>\n",
              "      <th>1</th>\n",
              "      <td>0</td>\n",
              "      <td>2</td>\n",
              "      <td>No</td>\n",
              "      <td>0</td>\n",
              "      <td>0</td>\n",
              "      <td>5</td>\n",
              "      <td>54</td>\n",
              "      <td>0</td>\n",
              "      <td>1</td>\n",
              "      <td>4</td>\n",
              "      <td>1</td>\n",
              "      <td>4</td>\n",
              "    </tr>\n",
              "    <tr>\n",
              "      <th>2</th>\n",
              "      <td>0</td>\n",
              "      <td>2</td>\n",
              "      <td>Yes</td>\n",
              "      <td>1</td>\n",
              "      <td>1</td>\n",
              "      <td>5</td>\n",
              "      <td>10</td>\n",
              "      <td>1</td>\n",
              "      <td>3</td>\n",
              "      <td>3</td>\n",
              "      <td>6</td>\n",
              "      <td>9</td>\n",
              "    </tr>\n",
              "  </tbody>\n",
              "</table>\n",
              "</div>"
            ],
            "text/plain": [
              "   country  year  ... Level of Educuation  Type of Job\n",
              "0        0     2  ...                   4            9\n",
              "1        0     2  ...                   1            4\n",
              "2        0     2  ...                   6            9\n",
              "\n",
              "[3 rows x 12 columns]"
            ]
          },
          "metadata": {
            "tags": []
          },
          "execution_count": 564
        }
      ]
    },
    {
      "cell_type": "markdown",
      "metadata": {
        "id": "dQbtA_BWJhgo"
      },
      "source": [
        "####d.Splitting dataset"
      ]
    },
    {
      "cell_type": "code",
      "metadata": {
        "id": "VRfEvsYizWcA"
      },
      "source": [
        "#splitting dataset into train and test\n",
        "from sklearn.model_selection import train_test_split\n",
        "\n",
        "X_train, X_test, y_train, y_test = train_test_split(X, y, test_size=0.2, random_state=0)"
      ],
      "execution_count": 565,
      "outputs": []
    },
    {
      "cell_type": "markdown",
      "metadata": {
        "id": "iPszF1waJmzo"
      },
      "source": [
        "####e. Normalization"
      ]
    },
    {
      "cell_type": "code",
      "metadata": {
        "id": "D-hqw7yRzfbW"
      },
      "source": [
        "#Normalization\n",
        "from sklearn.preprocessing import StandardScaler\n",
        "\n",
        "sc = StandardScaler()\n",
        "X_train = sc.fit_transform(X_train)\n",
        "X_test = sc.transform(X_test)"
      ],
      "execution_count": 566,
      "outputs": []
    },
    {
      "cell_type": "markdown",
      "metadata": {
        "id": "gytLn-9FJul5"
      },
      "source": [
        "####f.Performing PCA"
      ]
    },
    {
      "cell_type": "code",
      "metadata": {
        "id": "gmeI3ryy2IDR"
      },
      "source": [
        "#Applying PCA\n",
        "from sklearn.decomposition import PCA\n",
        "\n",
        "pca = PCA()\n",
        "X_train = pca.fit_transform(X_train)\n",
        "X_test = pca.transform(X_test)"
      ],
      "execution_count": 567,
      "outputs": []
    },
    {
      "cell_type": "markdown",
      "metadata": {
        "id": "OiwxaURxJ0vd"
      },
      "source": [
        "####g. Explained Variance Ratio "
      ]
    },
    {
      "cell_type": "code",
      "metadata": {
        "id": "DmgNL2CA2ML5",
        "outputId": "8a392d07-c470-4456-f26d-71b09f8a881a",
        "colab": {
          "base_uri": "https://localhost:8080/",
          "height": 67
        }
      },
      "source": [
        "#Explained Variance Ratio\n",
        "explained_variance = pca.explained_variance_ratio_\n",
        "explained_variance"
      ],
      "execution_count": 568,
      "outputs": [
        {
          "output_type": "execute_result",
          "data": {
            "text/plain": [
              "array([0.18153309, 0.14924705, 0.14166474, 0.1023291 , 0.08787955,\n",
              "       0.07506479, 0.06854561, 0.06062763, 0.05242002, 0.04233801,\n",
              "       0.03835041])"
            ]
          },
          "metadata": {
            "tags": []
          },
          "execution_count": 568
        }
      ]
    },
    {
      "cell_type": "markdown",
      "metadata": {
        "id": "DFeiGJLoKBwd"
      },
      "source": [
        "####h.Using 1 component PCA "
      ]
    },
    {
      "cell_type": "code",
      "metadata": {
        "id": "gexvsvXd2TI-"
      },
      "source": [
        "#Using 1 Principal component\n",
        "from sklearn.decomposition import PCA\n",
        "\n",
        "pca = PCA(n_components=1)\n",
        "X_train = pca.fit_transform(X_train)\n",
        "X_test = pca.transform(X_test)"
      ],
      "execution_count": 569,
      "outputs": []
    },
    {
      "cell_type": "markdown",
      "metadata": {
        "id": "zuCZc8RKKJil"
      },
      "source": [
        "i.Training and making Predictions"
      ]
    },
    {
      "cell_type": "code",
      "metadata": {
        "id": "4M1atFVA2a66"
      },
      "source": [
        "#Training and making predictions\n",
        "from sklearn.ensemble import RandomForestClassifier\n",
        "\n",
        "classifier = RandomForestClassifier(max_depth=2, random_state=0)\n",
        "classifier.fit(X_train, y_train)\n",
        "\n",
        "y_pred = classifier.predict(X_test)"
      ],
      "execution_count": 570,
      "outputs": []
    },
    {
      "cell_type": "markdown",
      "metadata": {
        "id": "43ucZAIZKOZs"
      },
      "source": [
        "####j.Evaluation "
      ]
    },
    {
      "cell_type": "code",
      "metadata": {
        "id": "z5j_Kfb52i7W",
        "outputId": "2f0d4501-4313-4bbb-e41f-a72a93f41eb1",
        "colab": {
          "base_uri": "https://localhost:8080/",
          "height": 67
        }
      },
      "source": [
        "#Evaluation\n",
        "from sklearn.metrics import confusion_matrix\n",
        "from sklearn.metrics import accuracy_score\n",
        "\n",
        "cm = confusion_matrix(y_test, y_pred)\n",
        "print(cm)\n",
        "print('Accuracy' , accuracy_score(y_test, y_pred))\n"
      ],
      "execution_count": 571,
      "outputs": [
        {
          "output_type": "stream",
          "text": [
            "[[3854    0]\n",
            " [ 677    0]]\n",
            "Accuracy 0.8505848598543367\n"
          ],
          "name": "stdout"
        }
      ]
    },
    {
      "cell_type": "markdown",
      "metadata": {
        "id": "EvrmSgJKKWCb"
      },
      "source": [
        "####k.Trying PCA with 2 components "
      ]
    },
    {
      "cell_type": "code",
      "metadata": {
        "id": "bVXRnn1P2nh5",
        "outputId": "f2e0c912-a892-4b1f-fa13-aefb5fd29d53",
        "colab": {
          "base_uri": "https://localhost:8080/",
          "height": 229
        }
      },
      "source": [
        "#Trying out PCA with 2 components\n",
        "dataset_pca.head()"
      ],
      "execution_count": 572,
      "outputs": [
        {
          "output_type": "execute_result",
          "data": {
            "text/html": [
              "<div>\n",
              "<style scoped>\n",
              "    .dataframe tbody tr th:only-of-type {\n",
              "        vertical-align: middle;\n",
              "    }\n",
              "\n",
              "    .dataframe tbody tr th {\n",
              "        vertical-align: top;\n",
              "    }\n",
              "\n",
              "    .dataframe thead th {\n",
              "        text-align: right;\n",
              "    }\n",
              "</style>\n",
              "<table border=\"1\" class=\"dataframe\">\n",
              "  <thead>\n",
              "    <tr style=\"text-align: right;\">\n",
              "      <th></th>\n",
              "      <th>country</th>\n",
              "      <th>year</th>\n",
              "      <th>Has a Bank account</th>\n",
              "      <th>Type of Location</th>\n",
              "      <th>Cell Phone Access</th>\n",
              "      <th>household_size</th>\n",
              "      <th>Respondent Age</th>\n",
              "      <th>gender_of_respondent</th>\n",
              "      <th>The relathip with head</th>\n",
              "      <th>marital_status</th>\n",
              "      <th>Level of Educuation</th>\n",
              "      <th>Type of Job</th>\n",
              "    </tr>\n",
              "  </thead>\n",
              "  <tbody>\n",
              "    <tr>\n",
              "      <th>0</th>\n",
              "      <td>0</td>\n",
              "      <td>2</td>\n",
              "      <td>Yes</td>\n",
              "      <td>0</td>\n",
              "      <td>1</td>\n",
              "      <td>3</td>\n",
              "      <td>8</td>\n",
              "      <td>0</td>\n",
              "      <td>5</td>\n",
              "      <td>2</td>\n",
              "      <td>4</td>\n",
              "      <td>9</td>\n",
              "    </tr>\n",
              "    <tr>\n",
              "      <th>1</th>\n",
              "      <td>0</td>\n",
              "      <td>2</td>\n",
              "      <td>No</td>\n",
              "      <td>0</td>\n",
              "      <td>0</td>\n",
              "      <td>5</td>\n",
              "      <td>54</td>\n",
              "      <td>0</td>\n",
              "      <td>1</td>\n",
              "      <td>4</td>\n",
              "      <td>1</td>\n",
              "      <td>4</td>\n",
              "    </tr>\n",
              "    <tr>\n",
              "      <th>2</th>\n",
              "      <td>0</td>\n",
              "      <td>2</td>\n",
              "      <td>Yes</td>\n",
              "      <td>1</td>\n",
              "      <td>1</td>\n",
              "      <td>5</td>\n",
              "      <td>10</td>\n",
              "      <td>1</td>\n",
              "      <td>3</td>\n",
              "      <td>3</td>\n",
              "      <td>6</td>\n",
              "      <td>9</td>\n",
              "    </tr>\n",
              "    <tr>\n",
              "      <th>3</th>\n",
              "      <td>0</td>\n",
              "      <td>2</td>\n",
              "      <td>No</td>\n",
              "      <td>0</td>\n",
              "      <td>1</td>\n",
              "      <td>5</td>\n",
              "      <td>18</td>\n",
              "      <td>0</td>\n",
              "      <td>1</td>\n",
              "      <td>2</td>\n",
              "      <td>3</td>\n",
              "      <td>3</td>\n",
              "    </tr>\n",
              "    <tr>\n",
              "      <th>4</th>\n",
              "      <td>0</td>\n",
              "      <td>2</td>\n",
              "      <td>No</td>\n",
              "      <td>1</td>\n",
              "      <td>0</td>\n",
              "      <td>8</td>\n",
              "      <td>10</td>\n",
              "      <td>1</td>\n",
              "      <td>0</td>\n",
              "      <td>3</td>\n",
              "      <td>3</td>\n",
              "      <td>5</td>\n",
              "    </tr>\n",
              "  </tbody>\n",
              "</table>\n",
              "</div>"
            ],
            "text/plain": [
              "   country  year  ... Level of Educuation  Type of Job\n",
              "0        0     2  ...                   4            9\n",
              "1        0     2  ...                   1            4\n",
              "2        0     2  ...                   6            9\n",
              "3        0     2  ...                   3            3\n",
              "4        0     2  ...                   3            5\n",
              "\n",
              "[5 rows x 12 columns]"
            ]
          },
          "metadata": {
            "tags": []
          },
          "execution_count": 572
        }
      ]
    },
    {
      "cell_type": "code",
      "metadata": {
        "id": "GYOJtZHF25L8",
        "outputId": "5bb8b303-556f-4dd8-e99f-6ffcbc38152d",
        "colab": {
          "base_uri": "https://localhost:8080/",
          "height": 84
        }
      },
      "source": [
        "#1.dividing the dataset into feature and label\n",
        "X = dataset_pca.drop('Has a Bank account', 1)\n",
        "y = dataset_pca['Has a Bank account']\n",
        "\n",
        "#2.splitting dataset into train and test\n",
        "from sklearn.model_selection import train_test_split\n",
        "\n",
        "X_train, X_test, y_train, y_test = train_test_split(X, y, test_size=0.2, random_state=0)\n",
        "\n",
        "#3. Normalization\n",
        "from sklearn.preprocessing import StandardScaler\n",
        "\n",
        "sc = StandardScaler()\n",
        "X_train = sc.fit_transform(X_train)\n",
        "X_test = sc.transform(X_test)\n",
        "\n",
        "#4. Applying PCA\n",
        "from sklearn.decomposition import PCA\n",
        "\n",
        "pca = PCA(n_components=2)\n",
        "X_train = pca.fit_transform(X_train)\n",
        "X_test = pca.transform(X_test)\n",
        "\n",
        "#5. Explained Variance Ratio\n",
        "explained_variance = pca.explained_variance_ratio_\n",
        "explained_variance\n",
        "\n",
        "#6. Training and making predictions\n",
        "from sklearn.ensemble import RandomForestClassifier\n",
        "\n",
        "classifier = RandomForestClassifier(max_depth=2, random_state=0)\n",
        "classifier.fit(X_train, y_train)\n",
        "\n",
        "y_pred = classifier.predict(X_test)\n",
        "print(y_pred)\n",
        "\n",
        "#7. Evaluation\n",
        "from sklearn.metrics import confusion_matrix\n",
        "from sklearn.metrics import accuracy_score\n",
        "\n",
        "cm = confusion_matrix(y_test, y_pred)\n",
        "print(cm)\n",
        "print('Accuracy' , accuracy_score(y_test, y_pred))\n",
        "\n"
      ],
      "execution_count": 573,
      "outputs": [
        {
          "output_type": "stream",
          "text": [
            "['No' 'No' 'No' ... 'No' 'No' 'No']\n",
            "[[3854    0]\n",
            " [ 677    0]]\n",
            "Accuracy 0.8505848598543367\n"
          ],
          "name": "stdout"
        }
      ]
    },
    {
      "cell_type": "markdown",
      "metadata": {
        "id": "Qq8LFFxMKfmu"
      },
      "source": [
        "####l.Tried with 3 components "
      ]
    },
    {
      "cell_type": "code",
      "metadata": {
        "id": "VT7btpby4TSv",
        "outputId": "3992e963-7b0e-48e3-8f6b-c68c5c2a7b6e",
        "colab": {
          "base_uri": "https://localhost:8080/",
          "height": 84
        }
      },
      "source": [
        "# Trying with 3 components\n",
        "#1.dividing the dataset into feature and label\n",
        "X = dataset_pca.drop('Has a Bank account', 1)\n",
        "y = dataset_pca['Has a Bank account']\n",
        "\n",
        "#2.splitting dataset into train and test\n",
        "from sklearn.model_selection import train_test_split\n",
        "\n",
        "X_train, X_test, y_train, y_test = train_test_split(X, y, test_size=0.2, random_state=0)\n",
        "\n",
        "#3. Normalization\n",
        "from sklearn.preprocessing import StandardScaler\n",
        "\n",
        "sc = StandardScaler()\n",
        "X_train = sc.fit_transform(X_train)\n",
        "X_test = sc.transform(X_test)\n",
        "\n",
        "#4. Applying PCA\n",
        "from sklearn.decomposition import PCA\n",
        "\n",
        "pca = PCA(n_components=3)\n",
        "X_train = pca.fit_transform(X_train)\n",
        "X_test = pca.transform(X_test)\n",
        "\n",
        "#5. Explained Variance Ratio\n",
        "explained_variance = pca.explained_variance_ratio_\n",
        "explained_variance\n",
        "\n",
        "#6. Training and making predictions\n",
        "from sklearn.ensemble import RandomForestClassifier\n",
        "\n",
        "classifier = RandomForestClassifier(max_depth=2, random_state=0)\n",
        "classifier.fit(X_train, y_train)\n",
        "\n",
        "y_pred = classifier.predict(X_test)\n",
        "print(y_pred)\n",
        "\n",
        "#7. Evaluation\n",
        "from sklearn.metrics import confusion_matrix\n",
        "from sklearn.metrics import accuracy_score\n",
        "\n",
        "cm = confusion_matrix(y_test, y_pred)\n",
        "print(cm)\n",
        "print('Accuracy' , accuracy_score(y_test, y_pred))\n",
        "\n"
      ],
      "execution_count": 574,
      "outputs": [
        {
          "output_type": "stream",
          "text": [
            "['No' 'No' 'No' ... 'No' 'No' 'No']\n",
            "[[3854    0]\n",
            " [ 677    0]]\n",
            "Accuracy 0.8505848598543367\n"
          ],
          "name": "stdout"
        }
      ]
    },
    {
      "cell_type": "markdown",
      "metadata": {
        "id": "Pz8HHkEF4oGE"
      },
      "source": [
        "###ii.Factor Analysis"
      ]
    },
    {
      "cell_type": "markdown",
      "metadata": {
        "id": "tS9PZIIz5g1V"
      },
      "source": [
        "####a.Loading dataset"
      ]
    },
    {
      "cell_type": "code",
      "metadata": {
        "id": "61a6-Ya94ml7",
        "outputId": "7ffa7cc6-df2a-4aa3-e9d9-499464d3b8ab",
        "colab": {
          "base_uri": "https://localhost:8080/",
          "height": 170
        }
      },
      "source": [
        "#Dataset\n",
        "dataset_pca.head(3)\n"
      ],
      "execution_count": 575,
      "outputs": [
        {
          "output_type": "execute_result",
          "data": {
            "text/html": [
              "<div>\n",
              "<style scoped>\n",
              "    .dataframe tbody tr th:only-of-type {\n",
              "        vertical-align: middle;\n",
              "    }\n",
              "\n",
              "    .dataframe tbody tr th {\n",
              "        vertical-align: top;\n",
              "    }\n",
              "\n",
              "    .dataframe thead th {\n",
              "        text-align: right;\n",
              "    }\n",
              "</style>\n",
              "<table border=\"1\" class=\"dataframe\">\n",
              "  <thead>\n",
              "    <tr style=\"text-align: right;\">\n",
              "      <th></th>\n",
              "      <th>country</th>\n",
              "      <th>year</th>\n",
              "      <th>Has a Bank account</th>\n",
              "      <th>Type of Location</th>\n",
              "      <th>Cell Phone Access</th>\n",
              "      <th>household_size</th>\n",
              "      <th>Respondent Age</th>\n",
              "      <th>gender_of_respondent</th>\n",
              "      <th>The relathip with head</th>\n",
              "      <th>marital_status</th>\n",
              "      <th>Level of Educuation</th>\n",
              "      <th>Type of Job</th>\n",
              "    </tr>\n",
              "  </thead>\n",
              "  <tbody>\n",
              "    <tr>\n",
              "      <th>0</th>\n",
              "      <td>0</td>\n",
              "      <td>2</td>\n",
              "      <td>Yes</td>\n",
              "      <td>0</td>\n",
              "      <td>1</td>\n",
              "      <td>3</td>\n",
              "      <td>8</td>\n",
              "      <td>0</td>\n",
              "      <td>5</td>\n",
              "      <td>2</td>\n",
              "      <td>4</td>\n",
              "      <td>9</td>\n",
              "    </tr>\n",
              "    <tr>\n",
              "      <th>1</th>\n",
              "      <td>0</td>\n",
              "      <td>2</td>\n",
              "      <td>No</td>\n",
              "      <td>0</td>\n",
              "      <td>0</td>\n",
              "      <td>5</td>\n",
              "      <td>54</td>\n",
              "      <td>0</td>\n",
              "      <td>1</td>\n",
              "      <td>4</td>\n",
              "      <td>1</td>\n",
              "      <td>4</td>\n",
              "    </tr>\n",
              "    <tr>\n",
              "      <th>2</th>\n",
              "      <td>0</td>\n",
              "      <td>2</td>\n",
              "      <td>Yes</td>\n",
              "      <td>1</td>\n",
              "      <td>1</td>\n",
              "      <td>5</td>\n",
              "      <td>10</td>\n",
              "      <td>1</td>\n",
              "      <td>3</td>\n",
              "      <td>3</td>\n",
              "      <td>6</td>\n",
              "      <td>9</td>\n",
              "    </tr>\n",
              "  </tbody>\n",
              "</table>\n",
              "</div>"
            ],
            "text/plain": [
              "   country  year  ... Level of Educuation  Type of Job\n",
              "0        0     2  ...                   4            9\n",
              "1        0     2  ...                   1            4\n",
              "2        0     2  ...                   6            9\n",
              "\n",
              "[3 rows x 12 columns]"
            ]
          },
          "metadata": {
            "tags": []
          },
          "execution_count": 575
        }
      ]
    },
    {
      "cell_type": "code",
      "metadata": {
        "id": "AvWVtvxZ7b0y",
        "outputId": "d9f370f1-91da-4c94-bd5f-c8533c6ffa3a",
        "colab": {
          "base_uri": "https://localhost:8080/",
          "height": 170
        }
      },
      "source": [
        "dataset_pca['Has a Bank account']=le.fit_transform(dataset_pca['Has a Bank account'])\n",
        "dataset_fa = dataset_pca\n",
        "dataset_fa.head(3)"
      ],
      "execution_count": 576,
      "outputs": [
        {
          "output_type": "execute_result",
          "data": {
            "text/html": [
              "<div>\n",
              "<style scoped>\n",
              "    .dataframe tbody tr th:only-of-type {\n",
              "        vertical-align: middle;\n",
              "    }\n",
              "\n",
              "    .dataframe tbody tr th {\n",
              "        vertical-align: top;\n",
              "    }\n",
              "\n",
              "    .dataframe thead th {\n",
              "        text-align: right;\n",
              "    }\n",
              "</style>\n",
              "<table border=\"1\" class=\"dataframe\">\n",
              "  <thead>\n",
              "    <tr style=\"text-align: right;\">\n",
              "      <th></th>\n",
              "      <th>country</th>\n",
              "      <th>year</th>\n",
              "      <th>Has a Bank account</th>\n",
              "      <th>Type of Location</th>\n",
              "      <th>Cell Phone Access</th>\n",
              "      <th>household_size</th>\n",
              "      <th>Respondent Age</th>\n",
              "      <th>gender_of_respondent</th>\n",
              "      <th>The relathip with head</th>\n",
              "      <th>marital_status</th>\n",
              "      <th>Level of Educuation</th>\n",
              "      <th>Type of Job</th>\n",
              "    </tr>\n",
              "  </thead>\n",
              "  <tbody>\n",
              "    <tr>\n",
              "      <th>0</th>\n",
              "      <td>0</td>\n",
              "      <td>2</td>\n",
              "      <td>1</td>\n",
              "      <td>0</td>\n",
              "      <td>1</td>\n",
              "      <td>3</td>\n",
              "      <td>8</td>\n",
              "      <td>0</td>\n",
              "      <td>5</td>\n",
              "      <td>2</td>\n",
              "      <td>4</td>\n",
              "      <td>9</td>\n",
              "    </tr>\n",
              "    <tr>\n",
              "      <th>1</th>\n",
              "      <td>0</td>\n",
              "      <td>2</td>\n",
              "      <td>0</td>\n",
              "      <td>0</td>\n",
              "      <td>0</td>\n",
              "      <td>5</td>\n",
              "      <td>54</td>\n",
              "      <td>0</td>\n",
              "      <td>1</td>\n",
              "      <td>4</td>\n",
              "      <td>1</td>\n",
              "      <td>4</td>\n",
              "    </tr>\n",
              "    <tr>\n",
              "      <th>2</th>\n",
              "      <td>0</td>\n",
              "      <td>2</td>\n",
              "      <td>1</td>\n",
              "      <td>1</td>\n",
              "      <td>1</td>\n",
              "      <td>5</td>\n",
              "      <td>10</td>\n",
              "      <td>1</td>\n",
              "      <td>3</td>\n",
              "      <td>3</td>\n",
              "      <td>6</td>\n",
              "      <td>9</td>\n",
              "    </tr>\n",
              "  </tbody>\n",
              "</table>\n",
              "</div>"
            ],
            "text/plain": [
              "   country  year  ...  Level of Educuation  Type of Job\n",
              "0        0     2  ...                    4            9\n",
              "1        0     2  ...                    1            4\n",
              "2        0     2  ...                    6            9\n",
              "\n",
              "[3 rows x 12 columns]"
            ]
          },
          "metadata": {
            "tags": []
          },
          "execution_count": 576
        }
      ]
    },
    {
      "cell_type": "markdown",
      "metadata": {
        "id": "RTMfrPZS5mOs"
      },
      "source": [
        "####b.Adequacy Test"
      ]
    },
    {
      "cell_type": "code",
      "metadata": {
        "id": "L3gxBbiT503B",
        "outputId": "5029e89e-e382-4d52-e263-ba903d480aba",
        "colab": {
          "base_uri": "https://localhost:8080/",
          "height": 154
        }
      },
      "source": [
        "pip install factor_analyzer==0.2.3\n"
      ],
      "execution_count": 577,
      "outputs": [
        {
          "output_type": "stream",
          "text": [
            "Requirement already satisfied: factor_analyzer==0.2.3 in /usr/local/lib/python3.6/dist-packages (0.2.3)\n",
            "Requirement already satisfied: pandas in /usr/local/lib/python3.6/dist-packages (from factor_analyzer==0.2.3) (1.1.2)\n",
            "Requirement already satisfied: scipy in /usr/local/lib/python3.6/dist-packages (from factor_analyzer==0.2.3) (1.4.1)\n",
            "Requirement already satisfied: numpy in /usr/local/lib/python3.6/dist-packages (from factor_analyzer==0.2.3) (1.18.5)\n",
            "Requirement already satisfied: pytz>=2017.2 in /usr/local/lib/python3.6/dist-packages (from pandas->factor_analyzer==0.2.3) (2018.9)\n",
            "Requirement already satisfied: python-dateutil>=2.7.3 in /usr/local/lib/python3.6/dist-packages (from pandas->factor_analyzer==0.2.3) (2.8.1)\n",
            "Requirement already satisfied: six>=1.5 in /usr/local/lib/python3.6/dist-packages (from python-dateutil>=2.7.3->pandas->factor_analyzer==0.2.3) (1.15.0)\n"
          ],
          "name": "stdout"
        }
      ]
    },
    {
      "cell_type": "code",
      "metadata": {
        "id": "RytzoAWG459r",
        "outputId": "f6c80275-ef22-49f0-abfa-c807d7f7524f",
        "colab": {
          "base_uri": "https://localhost:8080/",
          "height": 34
        }
      },
      "source": [
        "#Evaluating factorability\n",
        "#Using Bartlett's test\n",
        "from factor_analyzer.factor_analyzer import calculate_bartlett_sphericity\n",
        "\n",
        "chi_square_value,p_value=calculate_bartlett_sphericity(dataset_fa)\n",
        "chi_square_value, p_value\n",
        "\n",
        "#since pvalue is 0,we conclude that the test is statistically significant"
      ],
      "execution_count": 578,
      "outputs": [
        {
          "output_type": "execute_result",
          "data": {
            "text/plain": [
              "(34694.87964079532, 0.0)"
            ]
          },
          "metadata": {
            "tags": []
          },
          "execution_count": 578
        }
      ]
    },
    {
      "cell_type": "markdown",
      "metadata": {
        "id": "CQnaRuH-8l1p"
      },
      "source": [
        "####c. Testing for suitability of factor analysis\n",
        "\n",
        "\n"
      ]
    },
    {
      "cell_type": "code",
      "metadata": {
        "id": "8xeSBp5F5rpU",
        "outputId": "63895a05-28d5-4e52-bdb3-81691ddf05d7",
        "colab": {
          "base_uri": "https://localhost:8080/",
          "height": 34
        }
      },
      "source": [
        "#Using KMO test to measure suitability of factor analysis\n",
        "from factor_analyzer.factor_analyzer import calculate_kmo\n",
        "\n",
        "kmo_all,kmo_model=calculate_kmo(dataset_fa)\n",
        "kmo_all\n",
        "kmo_model\n",
        "\n",
        "#kom value for our data is 0.57 which means that it's a little inadequate\n"
      ],
      "execution_count": 579,
      "outputs": [
        {
          "output_type": "execute_result",
          "data": {
            "text/plain": [
              "0.5708633503589445"
            ]
          },
          "metadata": {
            "tags": []
          },
          "execution_count": 579
        }
      ]
    },
    {
      "cell_type": "markdown",
      "metadata": {
        "id": "o4CGO5If_wqA"
      },
      "source": [
        "#### d. Choosing the number of Factors"
      ]
    },
    {
      "cell_type": "code",
      "metadata": {
        "id": "IgOTyZ3U6KVp",
        "outputId": "33965bcc-7bc9-4e62-b8e0-3a4b00a0939c",
        "colab": {
          "base_uri": "https://localhost:8080/",
          "height": 402
        }
      },
      "source": [
        "from factor_analyzer.factor_analyzer import FactorAnalyzer\n",
        "\n",
        "# Creating factor analysis object and perform factor analysis\n",
        "fa = FactorAnalyzer()\n",
        "fa.analyze(dataset_fa, rotation=None)\n",
        "\n",
        "# Checking the Eigenvalues\n",
        "ev, v = fa.get_eigenvalues()\n",
        "ev"
      ],
      "execution_count": 580,
      "outputs": [
        {
          "output_type": "execute_result",
          "data": {
            "text/html": [
              "<div>\n",
              "<style scoped>\n",
              "    .dataframe tbody tr th:only-of-type {\n",
              "        vertical-align: middle;\n",
              "    }\n",
              "\n",
              "    .dataframe tbody tr th {\n",
              "        vertical-align: top;\n",
              "    }\n",
              "\n",
              "    .dataframe thead th {\n",
              "        text-align: right;\n",
              "    }\n",
              "</style>\n",
              "<table border=\"1\" class=\"dataframe\">\n",
              "  <thead>\n",
              "    <tr style=\"text-align: right;\">\n",
              "      <th></th>\n",
              "      <th>Original_Eigenvalues</th>\n",
              "    </tr>\n",
              "  </thead>\n",
              "  <tbody>\n",
              "    <tr>\n",
              "      <th>0</th>\n",
              "      <td>2.005220</td>\n",
              "    </tr>\n",
              "    <tr>\n",
              "      <th>1</th>\n",
              "      <td>1.835321</td>\n",
              "    </tr>\n",
              "    <tr>\n",
              "      <th>2</th>\n",
              "      <td>1.563762</td>\n",
              "    </tr>\n",
              "    <tr>\n",
              "      <th>3</th>\n",
              "      <td>1.189157</td>\n",
              "    </tr>\n",
              "    <tr>\n",
              "      <th>4</th>\n",
              "      <td>0.999254</td>\n",
              "    </tr>\n",
              "    <tr>\n",
              "      <th>5</th>\n",
              "      <td>0.859836</td>\n",
              "    </tr>\n",
              "    <tr>\n",
              "      <th>6</th>\n",
              "      <td>0.758100</td>\n",
              "    </tr>\n",
              "    <tr>\n",
              "      <th>7</th>\n",
              "      <td>0.721301</td>\n",
              "    </tr>\n",
              "    <tr>\n",
              "      <th>8</th>\n",
              "      <td>0.665032</td>\n",
              "    </tr>\n",
              "    <tr>\n",
              "      <th>9</th>\n",
              "      <td>0.521649</td>\n",
              "    </tr>\n",
              "    <tr>\n",
              "      <th>10</th>\n",
              "      <td>0.462353</td>\n",
              "    </tr>\n",
              "    <tr>\n",
              "      <th>11</th>\n",
              "      <td>0.419015</td>\n",
              "    </tr>\n",
              "  </tbody>\n",
              "</table>\n",
              "</div>"
            ],
            "text/plain": [
              "    Original_Eigenvalues\n",
              "0               2.005220\n",
              "1               1.835321\n",
              "2               1.563762\n",
              "3               1.189157\n",
              "4               0.999254\n",
              "5               0.859836\n",
              "6               0.758100\n",
              "7               0.721301\n",
              "8               0.665032\n",
              "9               0.521649\n",
              "10              0.462353\n",
              "11              0.419015"
            ]
          },
          "metadata": {
            "tags": []
          },
          "execution_count": 580
        }
      ]
    },
    {
      "cell_type": "markdown",
      "metadata": {
        "id": "q2fv_9PRAA75"
      },
      "source": [
        "#### e. Creating a scree plot\n"
      ]
    },
    {
      "cell_type": "code",
      "metadata": {
        "id": "Wxgxi9P6_4uU",
        "outputId": "05b7bb49-4c8c-425f-c85f-96638496dea5",
        "colab": {
          "base_uri": "https://localhost:8080/",
          "height": 281
        }
      },
      "source": [
        "import matplotlib.pyplot as plt\n",
        "\n",
        "plt.scatter(range(1,dataset_fa.shape[1]+1),ev)\n",
        "plt.plot(range(1,dataset_fa.shape[1]+1),ev)\n",
        "plt.title('Scree Plot')\n",
        "plt.grid()\n",
        "plt.show()"
      ],
      "execution_count": 581,
      "outputs": [
        {
          "output_type": "display_data",
          "data": {
            "image/png": "[encoded data removed]",
            "text/plain": [
              "<Figure size 432x288 with 1 Axes>"
            ]
          },
          "metadata": {
            "tags": [],
            "needs_background": "light"
          }
        }
      ]
    },
    {
      "cell_type": "markdown",
      "metadata": {
        "id": "BhykLv2oA3H3"
      },
      "source": [
        "####f. Performing Factor Analysis"
      ]
    },
    {
      "cell_type": "code",
      "metadata": {
        "id": "iPkn9bZ8AKlj",
        "outputId": "fb05a42a-0c38-47ae-df8e-1e3f703cbb23",
        "colab": {
          "base_uri": "https://localhost:8080/",
          "height": 402
        }
      },
      "source": [
        "fa = FactorAnalyzer()\n",
        "fa.analyze(dataset_fa, 3, rotation=\"varimax\")\n",
        "fa.loadings"
      ],
      "execution_count": 582,
      "outputs": [
        {
          "output_type": "execute_result",
          "data": {
            "text/html": [
              "<div>\n",
              "<style scoped>\n",
              "    .dataframe tbody tr th:only-of-type {\n",
              "        vertical-align: middle;\n",
              "    }\n",
              "\n",
              "    .dataframe tbody tr th {\n",
              "        vertical-align: top;\n",
              "    }\n",
              "\n",
              "    .dataframe thead th {\n",
              "        text-align: right;\n",
              "    }\n",
              "</style>\n",
              "<table border=\"1\" class=\"dataframe\">\n",
              "  <thead>\n",
              "    <tr style=\"text-align: right;\">\n",
              "      <th></th>\n",
              "      <th>Factor1</th>\n",
              "      <th>Factor2</th>\n",
              "      <th>Factor3</th>\n",
              "    </tr>\n",
              "  </thead>\n",
              "  <tbody>\n",
              "    <tr>\n",
              "      <th>country</th>\n",
              "      <td>0.389124</td>\n",
              "      <td>0.160791</td>\n",
              "      <td>-0.163952</td>\n",
              "    </tr>\n",
              "    <tr>\n",
              "      <th>year</th>\n",
              "      <td>0.295681</td>\n",
              "      <td>-0.040692</td>\n",
              "      <td>0.182858</td>\n",
              "    </tr>\n",
              "    <tr>\n",
              "      <th>Has a Bank account</th>\n",
              "      <td>-0.008467</td>\n",
              "      <td>-0.184517</td>\n",
              "      <td>0.372791</td>\n",
              "    </tr>\n",
              "    <tr>\n",
              "      <th>Type of Location</th>\n",
              "      <td>0.563976</td>\n",
              "      <td>-0.024630</td>\n",
              "      <td>0.084449</td>\n",
              "    </tr>\n",
              "    <tr>\n",
              "      <th>Cell Phone Access</th>\n",
              "      <td>-0.212746</td>\n",
              "      <td>-0.123868</td>\n",
              "      <td>0.341489</td>\n",
              "    </tr>\n",
              "    <tr>\n",
              "      <th>household_size</th>\n",
              "      <td>-0.411659</td>\n",
              "      <td>0.087923</td>\n",
              "      <td>0.103960</td>\n",
              "    </tr>\n",
              "    <tr>\n",
              "      <th>Respondent Age</th>\n",
              "      <td>-0.076309</td>\n",
              "      <td>-0.149742</td>\n",
              "      <td>-0.361089</td>\n",
              "    </tr>\n",
              "    <tr>\n",
              "      <th>gender_of_respondent</th>\n",
              "      <td>-0.007696</td>\n",
              "      <td>-0.485830</td>\n",
              "      <td>0.103258</td>\n",
              "    </tr>\n",
              "    <tr>\n",
              "      <th>The relathip with head</th>\n",
              "      <td>-0.008462</td>\n",
              "      <td>0.929574</td>\n",
              "      <td>0.130615</td>\n",
              "    </tr>\n",
              "    <tr>\n",
              "      <th>marital_status</th>\n",
              "      <td>0.102567</td>\n",
              "      <td>-0.094995</td>\n",
              "      <td>-0.236091</td>\n",
              "    </tr>\n",
              "    <tr>\n",
              "      <th>Level of Educuation</th>\n",
              "      <td>0.147785</td>\n",
              "      <td>-0.118603</td>\n",
              "      <td>0.781178</td>\n",
              "    </tr>\n",
              "    <tr>\n",
              "      <th>Type of Job</th>\n",
              "      <td>0.712209</td>\n",
              "      <td>0.080840</td>\n",
              "      <td>-0.024859</td>\n",
              "    </tr>\n",
              "  </tbody>\n",
              "</table>\n",
              "</div>"
            ],
            "text/plain": [
              "                         Factor1   Factor2   Factor3\n",
              "country                 0.389124  0.160791 -0.163952\n",
              "year                    0.295681 -0.040692  0.182858\n",
              "Has a Bank account     -0.008467 -0.184517  0.372791\n",
              "Type of Location        0.563976 -0.024630  0.084449\n",
              "Cell Phone Access      -0.212746 -0.123868  0.341489\n",
              "household_size         -0.411659  0.087923  0.103960\n",
              "Respondent Age         -0.076309 -0.149742 -0.361089\n",
              "gender_of_respondent   -0.007696 -0.485830  0.103258\n",
              "The relathip with head -0.008462  0.929574  0.130615\n",
              "marital_status          0.102567 -0.094995 -0.236091\n",
              "Level of Educuation     0.147785 -0.118603  0.781178\n",
              "Type of Job             0.712209  0.080840 -0.024859"
            ]
          },
          "metadata": {
            "tags": []
          },
          "execution_count": 582
        }
      ]
    },
    {
      "cell_type": "markdown",
      "metadata": {
        "id": "-Vb1stgzBXe1"
      },
      "source": [
        "####g.Getting Variance of each factor"
      ]
    },
    {
      "cell_type": "code",
      "metadata": {
        "id": "PxBkAkZfBCnI",
        "outputId": "61e0c3c1-9011-4ad9-9b68-f16132cb1ba4",
        "colab": {
          "base_uri": "https://localhost:8080/",
          "height": 136
        }
      },
      "source": [
        "fa.get_factor_variance()\n",
        "#the total cumulative variance explained by the three factors is 30%"
      ],
      "execution_count": 583,
      "outputs": [
        {
          "output_type": "execute_result",
          "data": {
            "text/html": [
              "<div>\n",
              "<style scoped>\n",
              "    .dataframe tbody tr th:only-of-type {\n",
              "        vertical-align: middle;\n",
              "    }\n",
              "\n",
              "    .dataframe tbody tr th {\n",
              "        vertical-align: top;\n",
              "    }\n",
              "\n",
              "    .dataframe thead th {\n",
              "        text-align: right;\n",
              "    }\n",
              "</style>\n",
              "<table border=\"1\" class=\"dataframe\">\n",
              "  <thead>\n",
              "    <tr style=\"text-align: right;\">\n",
              "      <th></th>\n",
              "      <th>Factor1</th>\n",
              "      <th>Factor2</th>\n",
              "      <th>Factor3</th>\n",
              "    </tr>\n",
              "  </thead>\n",
              "  <tbody>\n",
              "    <tr>\n",
              "      <th>SS Loadings</th>\n",
              "      <td>1.317266</td>\n",
              "      <td>1.237423</td>\n",
              "      <td>1.158548</td>\n",
              "    </tr>\n",
              "    <tr>\n",
              "      <th>Proportion Var</th>\n",
              "      <td>0.109772</td>\n",
              "      <td>0.103119</td>\n",
              "      <td>0.096546</td>\n",
              "    </tr>\n",
              "    <tr>\n",
              "      <th>Cumulative Var</th>\n",
              "      <td>0.109772</td>\n",
              "      <td>0.212891</td>\n",
              "      <td>0.309436</td>\n",
              "    </tr>\n",
              "  </tbody>\n",
              "</table>\n",
              "</div>"
            ],
            "text/plain": [
              "                 Factor1   Factor2   Factor3\n",
              "SS Loadings     1.317266  1.237423  1.158548\n",
              "Proportion Var  0.109772  0.103119  0.096546\n",
              "Cumulative Var  0.109772  0.212891  0.309436"
            ]
          },
          "metadata": {
            "tags": []
          },
          "execution_count": 583
        }
      ]
    },
    {
      "cell_type": "markdown",
      "metadata": {
        "id": "lOzUJU2VBtHS"
      },
      "source": [
        "###iii.Linear Discriminant Analysis\n",
        "#####It is used as a dimensionality reduction technique"
      ]
    },
    {
      "cell_type": "markdown",
      "metadata": {
        "id": "P_EKuYwWBxEc"
      },
      "source": [
        "#####a. Load dataset"
      ]
    },
    {
      "cell_type": "code",
      "metadata": {
        "id": "X-Dr7-hnBd7V",
        "outputId": "27d80be5-a9b3-4ec1-c352-a2eac8d8f9f2",
        "colab": {
          "base_uri": "https://localhost:8080/",
          "height": 170
        }
      },
      "source": [
        "#We'll used the label encoded dataset from pca\n",
        "dataset_pca.head(3)"
      ],
      "execution_count": 584,
      "outputs": [
        {
          "output_type": "execute_result",
          "data": {
            "text/html": [
              "<div>\n",
              "<style scoped>\n",
              "    .dataframe tbody tr th:only-of-type {\n",
              "        vertical-align: middle;\n",
              "    }\n",
              "\n",
              "    .dataframe tbody tr th {\n",
              "        vertical-align: top;\n",
              "    }\n",
              "\n",
              "    .dataframe thead th {\n",
              "        text-align: right;\n",
              "    }\n",
              "</style>\n",
              "<table border=\"1\" class=\"dataframe\">\n",
              "  <thead>\n",
              "    <tr style=\"text-align: right;\">\n",
              "      <th></th>\n",
              "      <th>country</th>\n",
              "      <th>year</th>\n",
              "      <th>Has a Bank account</th>\n",
              "      <th>Type of Location</th>\n",
              "      <th>Cell Phone Access</th>\n",
              "      <th>household_size</th>\n",
              "      <th>Respondent Age</th>\n",
              "      <th>gender_of_respondent</th>\n",
              "      <th>The relathip with head</th>\n",
              "      <th>marital_status</th>\n",
              "      <th>Level of Educuation</th>\n",
              "      <th>Type of Job</th>\n",
              "    </tr>\n",
              "  </thead>\n",
              "  <tbody>\n",
              "    <tr>\n",
              "      <th>0</th>\n",
              "      <td>0</td>\n",
              "      <td>2</td>\n",
              "      <td>1</td>\n",
              "      <td>0</td>\n",
              "      <td>1</td>\n",
              "      <td>3</td>\n",
              "      <td>8</td>\n",
              "      <td>0</td>\n",
              "      <td>5</td>\n",
              "      <td>2</td>\n",
              "      <td>4</td>\n",
              "      <td>9</td>\n",
              "    </tr>\n",
              "    <tr>\n",
              "      <th>1</th>\n",
              "      <td>0</td>\n",
              "      <td>2</td>\n",
              "      <td>0</td>\n",
              "      <td>0</td>\n",
              "      <td>0</td>\n",
              "      <td>5</td>\n",
              "      <td>54</td>\n",
              "      <td>0</td>\n",
              "      <td>1</td>\n",
              "      <td>4</td>\n",
              "      <td>1</td>\n",
              "      <td>4</td>\n",
              "    </tr>\n",
              "    <tr>\n",
              "      <th>2</th>\n",
              "      <td>0</td>\n",
              "      <td>2</td>\n",
              "      <td>1</td>\n",
              "      <td>1</td>\n",
              "      <td>1</td>\n",
              "      <td>5</td>\n",
              "      <td>10</td>\n",
              "      <td>1</td>\n",
              "      <td>3</td>\n",
              "      <td>3</td>\n",
              "      <td>6</td>\n",
              "      <td>9</td>\n",
              "    </tr>\n",
              "  </tbody>\n",
              "</table>\n",
              "</div>"
            ],
            "text/plain": [
              "   country  year  ...  Level of Educuation  Type of Job\n",
              "0        0     2  ...                    4            9\n",
              "1        0     2  ...                    1            4\n",
              "2        0     2  ...                    6            9\n",
              "\n",
              "[3 rows x 12 columns]"
            ]
          },
          "metadata": {
            "tags": []
          },
          "execution_count": 584
        }
      ]
    },
    {
      "cell_type": "code",
      "metadata": {
        "id": "P4MDskucCQlR"
      },
      "source": [
        "#naming my dataset\n",
        "dataset_lda = dataset_pca\n"
      ],
      "execution_count": 585,
      "outputs": []
    },
    {
      "cell_type": "markdown",
      "metadata": {
        "id": "X9fWwq5eD2N8"
      },
      "source": [
        "#####b.Split dataset into features and labels"
      ]
    },
    {
      "cell_type": "code",
      "metadata": {
        "id": "RJmIYDjrCafF"
      },
      "source": [
        "X = dataset_lda.drop('Has a Bank account',1)\n",
        "y = dataset['Has a Bank account']"
      ],
      "execution_count": 586,
      "outputs": []
    },
    {
      "cell_type": "markdown",
      "metadata": {
        "id": "tMViz3LBGXre"
      },
      "source": [
        "##### c.Split dataset into train and test"
      ]
    },
    {
      "cell_type": "code",
      "metadata": {
        "id": "Yt8qTyiREW09"
      },
      "source": [
        "from sklearn.model_selection import train_test_split\n",
        "X_train, X_test, y_train, y_test = train_test_split(X, y, test_size=0.2, random_state=0)"
      ],
      "execution_count": 587,
      "outputs": []
    },
    {
      "cell_type": "markdown",
      "metadata": {
        "id": "iFcTUWIfGioM"
      },
      "source": [
        "#####d.Feature scaling\n"
      ]
    },
    {
      "cell_type": "code",
      "metadata": {
        "id": "h2_Tu_ZxGg_q"
      },
      "source": [
        "from sklearn.preprocessing import StandardScaler\n",
        "sc = StandardScaler()\n",
        "X_train = sc.fit_transform(X_train)\n",
        "X_test = sc.transform(X_test)"
      ],
      "execution_count": 588,
      "outputs": []
    },
    {
      "cell_type": "markdown",
      "metadata": {
        "id": "lmY3BeP1GpPH"
      },
      "source": [
        "##### e. Performing LDA"
      ]
    },
    {
      "cell_type": "code",
      "metadata": {
        "id": "VtFl7D0OGn7k"
      },
      "source": [
        "from sklearn.discriminant_analysis import LinearDiscriminantAnalysis as LDA\n",
        "lda = LDA(n_components=1)\n",
        "X_train = lda.fit_transform(X_train, y_train)\n",
        "X_test = lda.transform(X_test)"
      ],
      "execution_count": 589,
      "outputs": []
    },
    {
      "cell_type": "markdown",
      "metadata": {
        "id": "kzLR_hUEGxVl"
      },
      "source": [
        "##### F. Training and making predictions"
      ]
    },
    {
      "cell_type": "code",
      "metadata": {
        "id": "WVNxkVF4GveQ",
        "outputId": "12cc4794-0286-4173-e445-8cfe546e739a",
        "colab": {
          "base_uri": "https://localhost:8080/",
          "height": 34
        }
      },
      "source": [
        "from sklearn.ensemble import RandomForestClassifier\n",
        "\n",
        "classifier = RandomForestClassifier(max_depth=2, random_state=0)\n",
        "classifier.fit(X_train, y_train)\n",
        "y_pred = classifier.predict(X_test)\n",
        "y_pred"
      ],
      "execution_count": 590,
      "outputs": [
        {
          "output_type": "execute_result",
          "data": {
            "text/plain": [
              "array(['No', 'Yes', 'No', ..., 'Yes', 'No', 'No'], dtype=object)"
            ]
          },
          "metadata": {
            "tags": []
          },
          "execution_count": 590
        }
      ]
    },
    {
      "cell_type": "markdown",
      "metadata": {
        "id": "PHKPljcUG6j_"
      },
      "source": [
        "##### g. Evaluating Performance"
      ]
    },
    {
      "cell_type": "code",
      "metadata": {
        "id": "1fLsjRRdG5D4",
        "outputId": "9e606b8a-92bc-412a-c071-ee29338ce2f4",
        "colab": {
          "base_uri": "https://localhost:8080/",
          "height": 67
        }
      },
      "source": [
        "from sklearn.metrics import confusion_matrix\n",
        "from sklearn.metrics import accuracy_score\n",
        "\n",
        "cm = confusion_matrix(y_test, y_pred)\n",
        "print(cm)\n",
        "print('Accuracy' + str(accuracy_score(y_test, y_pred)))\n",
        "\n",
        "\n",
        "#We achieved an accracy of 86.76% with lda which is slightly better than the 85%  we had with Principal component analysis"
      ],
      "execution_count": 591,
      "outputs": [
        {
          "output_type": "stream",
          "text": [
            "[[3754  100]\n",
            " [ 500  177]]\n",
            "Accuracy0.8675789009048775\n"
          ],
          "name": "stdout"
        }
      ]
    },
    {
      "cell_type": "markdown",
      "metadata": {
        "id": "tM5lsgdvLOvP"
      },
      "source": [
        "###Conclusion.\n"
      ]
    },
    {
      "cell_type": "markdown",
      "metadata": {
        "id": "hf5tSyfhLXzf"
      },
      "source": [
        "Using LDA for this analysis enabled us to achieve an accuracy level of 86.76% during prediction. And should be used preferably of the three."
      ]
    },
    {
      "cell_type": "code",
      "metadata": {
        "id": "TAZ_jUyEHAOq"
      },
      "source": [
        ""
      ],
      "execution_count": 591,
      "outputs": []
    }
  ]
}